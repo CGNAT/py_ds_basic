{
 "cells": [
  {
   "cell_type": "markdown",
   "metadata": {
    "slideshow": {
     "slide_type": "slide"
    }
   },
   "source": [
    "# 資料結構（2）\n",
    "\n",
    "## 郭耀仁"
   ]
  },
  {
   "cell_type": "markdown",
   "metadata": {
    "slideshow": {
     "slide_type": "slide"
    }
   },
   "source": [
    "## 我們的問題\n",
    "\n",
    "- 我想一次把半馬跟全馬的距離換算成英里\n",
    "\n",
    "```python\n",
    "km_list = [21, 42.195]\n",
    "km_to_mile = 0.621371192\n",
    "mile_list = km_list * km_to_mile\n",
    "```"
   ]
  },
  {
   "cell_type": "markdown",
   "metadata": {
    "slideshow": {
     "slide_type": "subslide"
    }
   },
   "source": [
    "## 我們的問題（2）\n",
    "\n",
    "- Python 的 list 無法使用 **element-wise** 運算\n",
    "- 所以我們要倚賴 **ndarray** 解決問題"
   ]
  },
  {
   "cell_type": "markdown",
   "metadata": {
    "slideshow": {
     "slide_type": "slide"
    }
   },
   "source": [
    "## 第一次使用 ndarray\n",
    "\n",
    "```python\n",
    "import numpy # 引入 numpy 套件\n",
    "\n",
    "km_list = [21, 42.195]\n",
    "km_array = numpy.array(km_list)\n",
    "print(type(km_array))\n",
    "km_to_mile = 0.621371192\n",
    "mile_array = km_array * km_to_mile\n",
    "print(mile_array)\n",
    "```"
   ]
  },
  {
   "cell_type": "markdown",
   "metadata": {
    "slideshow": {
     "slide_type": "subslide"
    }
   },
   "source": [
    "## 第一次使用 ndarray（2）\n",
    "\n",
    "- 把套件名稱變成縮寫\n",
    "\n",
    "```python\n",
    "import numpy as np # 引入 numpy 套件\n",
    "\n",
    "km_list = [21, 42.195]\n",
    "km_array = np.array(km_list)\n",
    "print(type(km_array))\n",
    "km_to_mile = 0.621371192\n",
    "mile_array = km_array * km_to_mile\n",
    "print(mile_array)\n",
    "```"
   ]
  },
  {
   "cell_type": "markdown",
   "metadata": {
    "slideshow": {
     "slide_type": "slide"
    }
   },
   "source": [
    "## ndarray 只能容許一個資料類型\n",
    "\n",
    "- 同時儲存有數值，布林值，會被自動轉換為數值\n",
    "- 同時儲存有數值，布林值與文字，會被自動轉換為文字\n",
    "\n",
    "```python\n",
    "import numpy as np\n",
    "\n",
    "my_np_array = np.array([1, True])\n",
    "print(my_np_array.dtype)\n",
    "my_np_array = np.array([1, True, \"one\"])\n",
    "print(my_np_array.dtype)\n",
    "```"
   ]
  },
  {
   "cell_type": "markdown",
   "metadata": {
    "slideshow": {
     "slide_type": "slide"
    }
   },
   "source": [
    "## ndarray 可以建立矩陣\n",
    "\n",
    "```python\n",
    "import numpy as np\n",
    "\n",
    "my_np_array = np.array([1, 2, 3, 4])\n",
    "print(my_np_array)\n",
    "print(my_np_array ** 2)\n",
    "print(\"---\") # 分隔一下\n",
    "\n",
    "my_2d_array = np.array([[1, 3],\n",
    "                        [2, 4]])\n",
    "print(my_2d_array)\n",
    "print(my_2d_array ** 2)\n",
    "```"
   ]
  },
  {
   "cell_type": "markdown",
   "metadata": {
    "slideshow": {
     "slide_type": "slide"
    }
   },
   "source": [
    "## 選擇 ndarray 的元素\n",
    "\n",
    "- 用索引值選擇\n",
    "\n",
    "```python\n",
    "import numpy as np\n",
    "\n",
    "my_np_array = np.array([1, 2, 3, 4])\n",
    "print(my_np_array[0])\n",
    "\n",
    "my_2d_array = np.array([[1, 3],\n",
    "                        [2, 4]])\n",
    "print(my_2d_array[1, 1])\n",
    "```"
   ]
  },
  {
   "cell_type": "markdown",
   "metadata": {
    "slideshow": {
     "slide_type": "subslide"
    }
   },
   "source": [
    "## 選擇 ndarray 的元素（2）\n",
    "\n",
    "- 用布林值選擇\n",
    "\n",
    "```python\n",
    "import numpy as np\n",
    "\n",
    "my_np_array = np.array([1, 2, 3, 4])\n",
    "filter = my_np_array < 2\n",
    "print(my_np_array[filter])\n",
    "\n",
    "print(\"---\") # 分隔一下\n",
    "\n",
    "my_2d_array = np.array([[1, 3],\n",
    "                        [2, 4]])\n",
    "filter = my_2d_array >=2\n",
    "print(my_2d_array[filter])\n",
    "```"
   ]
  },
  {
   "cell_type": "markdown",
   "metadata": {
    "slideshow": {
     "slide_type": "slide"
    }
   },
   "source": [
    "## 了解外觀的屬性\n",
    "\n",
    "- `.size`\n",
    "- `.shape`\n",
    "\n",
    "```python\n",
    "import numpy as np\n",
    "\n",
    "my_np_array = np.array([1, 2, 3, 4])\n",
    "print(my_np_array.size)\n",
    "print(my_np_array.shape)\n",
    "\n",
    "print(\"---\") # 分隔一下\n",
    "\n",
    "my_2d_array = np.array([[1, 3],\n",
    "                        [2, 4]])\n",
    "print(my_2d_array.size)\n",
    "print(my_2d_array.shape)\n",
    "```"
   ]
  }
 ],
 "metadata": {
  "celltoolbar": "Slideshow",
  "kernelspec": {
   "display_name": "Python 3",
   "language": "python",
   "name": "python3"
  },
  "language_info": {
   "codemirror_mode": {
    "name": "ipython",
    "version": 3
   },
   "file_extension": ".py",
   "mimetype": "text/x-python",
   "name": "python",
   "nbconvert_exporter": "python",
   "pygments_lexer": "ipython3",
   "version": "3.5.2"
  }
 },
 "nbformat": 4,
 "nbformat_minor": 1
}
