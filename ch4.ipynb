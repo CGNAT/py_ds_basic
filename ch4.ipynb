{
 "cells": [
  {
   "cell_type": "markdown",
   "metadata": {
    "slideshow": {
     "slide_type": "slide"
    }
   },
   "source": [
    "# 資料結構（2）\n",
    "\n",
    "## 郭耀仁"
   ]
  },
  {
   "cell_type": "markdown",
   "metadata": {
    "slideshow": {
     "slide_type": "slide"
    }
   },
   "source": [
    "## 我們的問題\n",
    "\n",
    "- 我想一次把這幾個距離從公里換算成英里\n",
    "\n",
    "```python\n",
    "km_list = [3, 5, 10, 21, 42.195]\n",
    "km_to_mile = 0.621371192\n",
    "mile_list = km_list * km_to_mile\n",
    "```"
   ]
  },
  {
   "cell_type": "markdown",
   "metadata": {
    "slideshow": {
     "slide_type": "subslide"
    }
   },
   "source": [
    "## 我們的問題（2）\n",
    "\n",
    "- Python 的 list 無法使用 **element-wise** 運算\n",
    "- 在不引用套件的情況下我們可以使用 `迴圈` 來處理\n",
    "\n",
    "```python\n",
    "km_list = [3, 5, 10, 21, 42.195]\n",
    "km_to_mile = 0.621371192\n",
    "mile_list = []\n",
    "\n",
    "for km in km_list:\n",
    "    mile_list.append(km * km_to_mile)\n",
    "\n",
    "mile_list\n",
    "```"
   ]
  },
  {
   "cell_type": "markdown",
   "metadata": {
    "slideshow": {
     "slide_type": "subslide"
    }
   },
   "source": [
    "## 我們的問題（3）\n",
    "\n",
    "- Python 的 list 無法使用 **element-wise** 運算\n",
    "- 在不引用套件的情況下或者使用 `map()` 和 `lambda 函數` 來處理\n",
    "\n",
    "```python\n",
    "km_list = [3, 5, 10, 21, 42.195]\n",
    "mile_list = list(map(lambda x: x * 0.621371192, km_list))\n",
    "mile_list\n",
    "```"
   ]
  },
  {
   "cell_type": "markdown",
   "metadata": {
    "slideshow": {
     "slide_type": "subslide"
    }
   },
   "source": [
    "## 我們的問題（4）\n",
    "\n",
    "- 這樣處理會不會覺得太麻煩呢？"
   ]
  },
  {
   "cell_type": "markdown",
   "metadata": {
    "slideshow": {
     "slide_type": "slide"
    }
   },
   "source": [
    "## 第一次使用 ndarray\n",
    "\n",
    "```python\n",
    "import numpy # 引入 numpy 套件\n",
    "\n",
    "km_list = [3, 5, 10, 21, 42.195]\n",
    "km_array = numpy.array(km_list)\n",
    "print(type(km_array))\n",
    "km_to_mile = 0.621371192\n",
    "mile_array = km_array * km_to_mile\n",
    "print(mile_array)\n",
    "```"
   ]
  },
  {
   "cell_type": "markdown",
   "metadata": {
    "slideshow": {
     "slide_type": "subslide"
    }
   },
   "source": [
    "## 第一次使用 ndarray（2）\n",
    "\n",
    "- 把套件名稱變成縮寫\n",
    "\n",
    "```python\n",
    "import numpy as np # 引入 numpy 套件\n",
    "\n",
    "km_list = [3, 5, 10, 21, 42.195]\n",
    "km_array = np.array(km_list)\n",
    "print(type(km_array))\n",
    "km_to_mile = 0.621371192\n",
    "mile_array = km_array * km_to_mile\n",
    "print(mile_array)\n",
    "```"
   ]
  },
  {
   "cell_type": "markdown",
   "metadata": {
    "slideshow": {
     "slide_type": "slide"
    }
   },
   "source": [
    "## 練習計算 BMI\n",
    "\n",
    "- 請同學練習計算這五個人的 [BMI](https://zh.wikipedia.org/wiki/身高體重指數)\n",
    "\n",
    "```python\n",
    "heights = [173, 168, 171, 189, 179]\n",
    "weights = [65.4, 59.2, 63.6, 88.4, 68.7]\n",
    "```"
   ]
  },
  {
   "cell_type": "markdown",
   "metadata": {
    "slideshow": {
     "slide_type": "slide"
    }
   },
   "source": [
    "## ndarray 只能容許一個變數類型\n",
    "\n",
    "- 同時儲存有數值，布林值，會被自動轉換為數值\n",
    "- 同時儲存有數值，布林值與文字，會被自動轉換為文字\n",
    "\n",
    "```python\n",
    "import numpy as np\n",
    "\n",
    "my_np_array = np.array([1, True])\n",
    "print(my_np_array.dtype)\n",
    "my_np_array = np.array([1, True, \"one\"])\n",
    "print(my_np_array.dtype)\n",
    "```"
   ]
  },
  {
   "cell_type": "markdown",
   "metadata": {
    "slideshow": {
     "slide_type": "subslide"
    }
   },
   "source": [
    "## ndarray 只能容許一個變數類型（2）\n",
    "\n",
    "- 請同學練習在 `ndarray` 中放入不同變數類型並且檢視他們的型別"
   ]
  },
  {
   "cell_type": "markdown",
   "metadata": {
    "slideshow": {
     "slide_type": "slide"
    }
   },
   "source": [
    "## ndarray 可以建立矩陣\n",
    "\n",
    "```python\n",
    "import numpy as np\n",
    "\n",
    "my_2d_array = np.array([[1, 3],\n",
    "                        [2, 4]])\n",
    "print(my_2d_array)\n",
    "print(my_2d_array ** 2) # 矩陣也能完全適用 element-wise 運算\n",
    "```"
   ]
  },
  {
   "cell_type": "markdown",
   "metadata": {
    "slideshow": {
     "slide_type": "subslide"
    }
   },
   "source": [
    "## ndarray 可以建立矩陣（2）\n",
    "\n",
    "- 可以使用 `.reshape()` 來改變 `ndarray` 的形狀\n",
    "\n",
    "```python\n",
    "import numpy as np\n",
    "\n",
    "my_arr = np.array([1, 3, 2, 4])\n",
    "print(my_arr.reshape(2, 2))\n",
    "```"
   ]
  },
  {
   "cell_type": "markdown",
   "metadata": {
    "slideshow": {
     "slide_type": "subslide"
    }
   },
   "source": [
    "## ndarray 可以建立矩陣（3）\n",
    "\n",
    "- 請同學練習用兩種方法建立矩陣"
   ]
  },
  {
   "cell_type": "markdown",
   "metadata": {
    "slideshow": {
     "slide_type": "slide"
    }
   },
   "source": [
    "## 選擇 ndarray 的元素\n",
    "\n",
    "- 用索引值選擇\n",
    "\n",
    "```python\n",
    "import numpy as np\n",
    "\n",
    "my_np_array = np.array([1, 2, 3, 4])\n",
    "print(my_np_array[0])\n",
    "\n",
    "my_2d_array = np.array([[1, 3],\n",
    "                        [2, 4]])\n",
    "print(my_2d_array[1, 1])\n",
    "```"
   ]
  },
  {
   "cell_type": "markdown",
   "metadata": {
    "slideshow": {
     "slide_type": "subslide"
    }
   },
   "source": [
    "## 選擇 ndarray 的元素（2）\n",
    "\n",
    "- 請同學練習使用索引值選擇"
   ]
  },
  {
   "cell_type": "markdown",
   "metadata": {
    "slideshow": {
     "slide_type": "subslide"
    }
   },
   "source": [
    "## 選擇 ndarray 的元素（3）\n",
    "\n",
    "- 用布林值選擇\n",
    "\n",
    "```python\n",
    "import numpy as np\n",
    "\n",
    "my_np_array = np.array([1, 2, 3, 4])\n",
    "filter = my_np_array < 2\n",
    "print(my_np_array[filter])\n",
    "\n",
    "print(\"---\") # 分隔一下\n",
    "\n",
    "my_2d_array = np.array([[1, 3],\n",
    "                        [2, 4]])\n",
    "filter = my_2d_array >=2\n",
    "print(my_2d_array[filter])\n",
    "```"
   ]
  },
  {
   "cell_type": "markdown",
   "metadata": {
    "slideshow": {
     "slide_type": "subslide"
    }
   },
   "source": [
    "## 選擇 ndarray 的元素（4）\n",
    "\n",
    "- 請同學練習從五人中選出 BMI > 21 的元素"
   ]
  },
  {
   "cell_type": "markdown",
   "metadata": {
    "slideshow": {
     "slide_type": "slide"
    }
   },
   "source": [
    "## 了解外觀的屬性\n",
    "\n",
    "- `.size`\n",
    "- `.shape`\n",
    "\n",
    "```python\n",
    "import numpy as np\n",
    "\n",
    "my_np_array = np.array([1, 2, 3, 4])\n",
    "print(my_np_array.size)\n",
    "print(my_np_array.shape)\n",
    "\n",
    "print(\"---\") # 分隔一下\n",
    "\n",
    "my_2d_array = np.array([[1, 3],\n",
    "                        [2, 4]])\n",
    "print(my_2d_array.size)\n",
    "print(my_2d_array.shape)\n",
    "```"
   ]
  },
  {
   "cell_type": "markdown",
   "metadata": {
    "slideshow": {
     "slide_type": "slide"
    }
   },
   "source": [
    "## NumPy Quickstart Tutorial\n",
    "\n",
    "- 想要暸解更多關於 `NumPy` 的資訊：\n",
    "\n",
    "<https://docs.scipy.org/doc/numpy-dev/user/quickstart.html>"
   ]
  }
 ],
 "metadata": {
  "celltoolbar": "Slideshow",
  "kernelspec": {
   "display_name": "Python 3",
   "language": "python",
   "name": "python3"
  },
  "language_info": {
   "codemirror_mode": {
    "name": "ipython",
    "version": 3
   },
   "file_extension": ".py",
   "mimetype": "text/x-python",
   "name": "python",
   "nbconvert_exporter": "python",
   "pygments_lexer": "ipython3",
   "version": "3.6.0"
  }
 },
 "nbformat": 4,
 "nbformat_minor": 1
}
