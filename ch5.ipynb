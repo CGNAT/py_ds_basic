{
 "cells": [
  {
   "cell_type": "markdown",
   "metadata": {
    "slideshow": {
     "slide_type": "slide"
    }
   },
   "source": [
    "# 資料結構（3）\n",
    "\n",
    "## 郭耀仁"
   ]
  },
  {
   "cell_type": "markdown",
   "metadata": {
    "slideshow": {
     "slide_type": "slide"
    }
   },
   "source": [
    "## 第一個 pandas data frame\n",
    "\n",
    "- 還記得 **dict** 這個資料結構嗎？\n",
    "- 將一個 **dict** 的資料結構轉換為 data frame 是最方便的方法\n",
    "\n",
    "```python\n",
    "import pandas as pd # 引用套件並縮寫為 pd\n",
    "\n",
    "name = [\"Monkey D. Luffy\", \"Roronoa Zoro\", \"Nami\", \"Usopp\", \"Vinsmoke Sanji\", \"Tony Tony Chopper\", \"Nico Robin\", \"Franky\", \"Brook\"]\n",
    "age = [19, 21, 20, 19, 21, 17, 30, 36, 90]\n",
    "\n",
    "straw_hat_dict = {\"name\": name,\n",
    "                  \"age\": age\n",
    "}\n",
    "\n",
    "straw_hat_df = pd.DataFrame(straw_hat_dict)\n",
    "print(type(straw_hat_df))\n",
    "straw_hat_df\n",
    "```"
   ]
  },
  {
   "cell_type": "markdown",
   "metadata": {
    "slideshow": {
     "slide_type": "slide"
    }
   },
   "source": [
    "## Data frame 的特性\n",
    "\n",
    "- 包含多種資料類型，不會像 ndarray 僅容納單一資料類型\n",
    "\n",
    "```python\n",
    "import pandas as pd # 引用套件並縮寫為 pd\n",
    "\n",
    "name = [\"Monkey D. Luffy\", \"Roronoa Zoro\", \"Nami\", \"Usopp\", \"Vinsmoke Sanji\", \"Tony Tony Chopper\", \"Nico Robin\", \"Franky\", \"Brook\"]\n",
    "age = [19, 21, 20, 19, 21, 17, 30, 36, 90]\n",
    "is_male = [True, True, False, True, True, True, False, True, True]\n",
    "\n",
    "straw_hat_dict = {\"name\": name,\n",
    "                  \"age\": age,\n",
    "                  \"is_male\": is_male\n",
    "}\n",
    "\n",
    "straw_hat_df = pd.DataFrame(straw_hat_dict)\n",
    "print(straw_hat_df.dtypes)\n",
    "```"
   ]
  },
  {
   "cell_type": "markdown",
   "metadata": {
    "slideshow": {
     "slide_type": "subslide"
    }
   },
   "source": [
    "## Data frame 的特性（2）\n",
    "\n",
    "- 同樣使用中括號 `[]` 選擇元素\n",
    "- 使用 `.ix` 屬性\n",
    "\n",
    "```python\n",
    "import pandas as pd # 引用套件並縮寫為 pd\n",
    "\n",
    "name = [\"Monkey D. Luffy\", \"Roronoa Zoro\", \"Nami\", \"Usopp\", \"Vinsmoke Sanji\", \"Tony Tony Chopper\", \"Nico Robin\", \"Franky\", \"Brook\"]\n",
    "age = [19, 21, 20, 19, 21, 17, 30, 36, 90]\n",
    "is_male = [True, True, False, True, True, True, False, True, True]\n",
    "\n",
    "straw_hat_dict = {\"name\": name,\n",
    "                  \"age\": age,\n",
    "                  \"is_male\": is_male\n",
    "}\n",
    "\n",
    "straw_hat_df = pd.DataFrame(straw_hat_dict)\n",
    "\n",
    "print(straw_hat_df.ix[0, :]) # 選第 0 個觀測值\n",
    "print(\"---\")\n",
    "print(straw_hat_df.ix[:, \"name\"]) # 選 name 欄位\n",
    "print(\"---\")\n",
    "print(straw_hat_df.ix[0, \"name\"]) # 選第 0 個觀測值的 name 欄位\n",
    "```"
   ]
  },
  {
   "cell_type": "markdown",
   "metadata": {
    "slideshow": {
     "slide_type": "subslide"
    }
   },
   "source": [
    "## Data frame 的特性（3）\n",
    "\n",
    "- 可以使用布林值篩選\n",
    "\n",
    "```python\n",
    "import pandas as pd # 引用套件並縮寫為 pd\n",
    "\n",
    "name = [\"Monkey D. Luffy\", \"Roronoa Zoro\", \"Nami\", \"Usopp\", \"Vinsmoke Sanji\", \"Tony Tony Chopper\", \"Nico Robin\", \"Franky\", \"Brook\"]\n",
    "age = [19, 21, 20, 19, 21, 17, 30, 36, 90]\n",
    "is_male = [True, True, False, True, True, True, False, True, True]\n",
    "\n",
    "straw_hat_dict = {\"name\": name,\n",
    "                  \"age\": age,\n",
    "                  \"is_male\": is_male\n",
    "}\n",
    "\n",
    "straw_hat_df = pd.DataFrame(straw_hat_dict)\n",
    "\n",
    "# 篩選小於 30 歲的船員\n",
    "filter = straw_hat_df.ix[:, \"age\"] <= 30\n",
    "straw_hat_df[filter]\n",
    "\n",
    "# 篩選女性船員\n",
    "filter = straw_hat_df.ix[:, \"is_male\"] == False\n",
    "straw_hat_df[filter]\n",
    "```"
   ]
  },
  {
   "cell_type": "markdown",
   "metadata": {
    "slideshow": {
     "slide_type": "slide"
    }
   },
   "source": [
    "## 了解 data frame 的概觀\n",
    "\n",
    "```python\n",
    "import pandas as pd # 引用套件並縮寫為 pd\n",
    "\n",
    "name = [\"Monkey D. Luffy\", \"Roronoa Zoro\", \"Nami\", \"Usopp\", \"Vinsmoke Sanji\", \"Tony Tony Chopper\", \"Nico Robin\", \"Franky\", \"Brook\"]\n",
    "age = [19, 21, 20, 19, 21, 17, 30, 36, 90]\n",
    "is_male = [True, True, False, True, True, True, False, True, True]\n",
    "\n",
    "straw_hat_dict = {\"name\": name,\n",
    "                  \"age\": age,\n",
    "                  \"is_male\": is_male\n",
    "}\n",
    "\n",
    "straw_hat_df = pd.DataFrame(straw_hat_dict)\n",
    "\n",
    "print(straw_hat_df.shape) # 回傳列數與欄數\n",
    "print(\"---\")\n",
    "print(straw_hat_df.describe()) # 回傳描述性統計\n",
    "print(\"---\")\n",
    "print(straw_hat_df.head(3)) # 回傳前三筆觀測值\n",
    "print(\"---\")\n",
    "print(straw_hat_df.tail(3)) # 回傳後三筆觀測值\n",
    "print(\"---\")\n",
    "print(straw_hat_df.columns) # 回傳欄位名稱\n",
    "print(\"---\")\n",
    "print(straw_hat_df.index) # 回傳索引值\n",
    "```"
   ]
  },
  {
   "cell_type": "markdown",
   "metadata": {
    "slideshow": {
     "slide_type": "slide"
    }
   },
   "source": [
    "## 讀取外部資料\n",
    "\n",
    "- 使用 `pandas` 套件的 `.read_csv()` 方法讀取 csv 檔案\n",
    "\n",
    "```python\n",
    "import pandas as pd\n",
    "\n",
    "url = \"https://storage.googleapis.com/py_ds_basic/iris.csv\" # 在雲端上儲存了一份 csv 檔案\n",
    "iris_df = pd.read_csv(url)\n",
    "iris_df.head()\n",
    "```"
   ]
  },
  {
   "cell_type": "markdown",
   "metadata": {
    "slideshow": {
     "slide_type": "subslide"
    }
   },
   "source": [
    "## 讀取外部資料（2）\n",
    "\n",
    "- 使用 `pandas` 套件的 `.read_table()` 方法讀取 tsv 檔案\n",
    "\n",
    "```python\n",
    "import pandas as pd\n",
    "\n",
    "url = \"https://storage.googleapis.com/py_ds_basic/iris.tsv\" # 在雲端上儲存了一份 tsv 檔案\n",
    "iris_df = pd.read_table(url, sep = \"\\t\")\n",
    "iris_df.head()\n",
    "```"
   ]
  },
  {
   "cell_type": "markdown",
   "metadata": {
    "slideshow": {
     "slide_type": "subslide"
    }
   },
   "source": [
    "## 讀取外部資料（3）\n",
    "\n",
    "- 使用 `pandas` 套件的 `.read_excel()` 方法來讀取 excel 檔案\n",
    "\n",
    "```python\n",
    "import pandas as pd\n",
    "\n",
    "url = \"https://storage.googleapis.com/py_ds_basic/iris.xlsx\" # 在雲端上儲存了一份 Excel 試算表\n",
    "iris_df = pd.read_excel(url)\n",
    "iris_df.head()\n",
    "```"
   ]
  },
  {
   "cell_type": "markdown",
   "metadata": {
    "slideshow": {
     "slide_type": "subslide"
    }
   },
   "source": [
    "## 讀取外部資料（4）\n",
    "\n",
    "- 使用 `pandas` 套件的 `.read_json()` 方法來讀取 JSON 檔案\n",
    "\n",
    "```python\n",
    "import pandas as pd\n",
    "\n",
    "url = \"https://storage.googleapis.com/py_ds_basic/iris.json\" # 在雲端上儲存了一份 JSON 檔\n",
    "iris_df = pd.read_json(url)\n",
    "iris_df.head()\n",
    "```"
   ]
  },
  {
   "cell_type": "markdown",
   "metadata": {
    "slideshow": {
     "slide_type": "slide"
    }
   },
   "source": [
    "## 十分鐘暸解 Pandas\n",
    "\n",
    "<http://pandas.pydata.org/pandas-docs/stable/10min.html>"
   ]
  }
 ],
 "metadata": {
  "celltoolbar": "Slideshow",
  "kernelspec": {
   "display_name": "Python 3",
   "language": "python",
   "name": "python3"
  },
  "language_info": {
   "codemirror_mode": {
    "name": "ipython",
    "version": 3
   },
   "file_extension": ".py",
   "mimetype": "text/x-python",
   "name": "python",
   "nbconvert_exporter": "python",
   "pygments_lexer": "ipython3",
   "version": "3.5.2"
  }
 },
 "nbformat": 4,
 "nbformat_minor": 1
}
