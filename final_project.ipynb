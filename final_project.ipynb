{
 "cells": [
  {
   "cell_type": "markdown",
   "metadata": {
    "slideshow": {
     "slide_type": "slide"
    }
   },
   "source": [
    "# 期末作業\n",
    "\n",
    "## 郭耀仁"
   ]
  },
  {
   "cell_type": "markdown",
   "metadata": {
    "slideshow": {
     "slide_type": "slide"
    }
   },
   "source": [
    "## 目標\n",
    "\n",
    "- 對資料進行特徵工程（feature engineering）"
   ]
  },
  {
   "cell_type": "markdown",
   "metadata": {
    "slideshow": {
     "slide_type": "slide"
    }
   },
   "source": [
    "## 步驟\n",
    "\n",
    "- 讀取資料\n",
    "- 對資料進行探索性分析\n",
    "- 填補遺漏值\n",
    "- 建立虛擬變數（dummy variables）\n",
    "- 刪除編號類與遺漏值過多的變數"
   ]
  },
  {
   "cell_type": "markdown",
   "metadata": {
    "slideshow": {
     "slide_type": "subslide"
    }
   },
   "source": [
    "## 讀取資料\n",
    "\n",
    "```python\n",
    "url = \"https://storage.googleapis.com/py_ds_basic/kaggle_titanic_train.csv\"\n",
    "```"
   ]
  },
  {
   "cell_type": "markdown",
   "metadata": {
    "slideshow": {
     "slide_type": "subslide"
    }
   },
   "source": [
    "## 對資料進行探索性分析\n",
    "\n",
    "- 使用資料框的方法或屬性\n",
    "    - `shape`\n",
    "    - `describe()`\n",
    "- 對類別型變數畫長條圖等\n",
    "- 對連續型變數畫直方圖、散佈圖等"
   ]
  },
  {
   "cell_type": "markdown",
   "metadata": {
    "slideshow": {
     "slide_type": "subslide"
    }
   },
   "source": [
    "## 填補遺漏值\n",
    "\n",
    "- `df.isnull().sum()` 可以計算 `df` 中每個變數的遺漏值個數\n",
    "- 哪些變數需要填補遺漏值：\n",
    "    - Age\n",
    "    - Embarked"
   ]
  },
  {
   "cell_type": "markdown",
   "metadata": {
    "slideshow": {
     "slide_type": "subslide"
    }
   },
   "source": [
    "## 建立虛擬變數\n",
    "\n",
    "- 利用 `pandas.get_dummies()` 這個方法\n",
    "- 哪些變數需要建立虛擬變數：\n",
    "    - Sex\n",
    "    - Embarked\n",
    "\n",
    "```python\n",
    "import pandas as pd\n",
    "\n",
    "gender_df = pd.DataFrame({\n",
    "    \"gender\": [\"Male\", \"Female\", \"Male\"]\n",
    "})\n",
    "gender_df_dummies = pd.get_dummies(gender_df)\n",
    "gender_df_dummies\n",
    "```"
   ]
  },
  {
   "cell_type": "markdown",
   "metadata": {
    "slideshow": {
     "slide_type": "slide"
    }
   },
   "source": [
    "## 作業繳交方式\n",
    "\n",
    "- 將 .ipynb 的檔案寄到 <tony@kyosei.ai> 這個信箱\n",
    "- 主旨請註明：[280py\\_ds\\_姓名]期末作業"
   ]
  },
  {
   "cell_type": "markdown",
   "metadata": {
    "slideshow": {
     "slide_type": "slide"
    }
   },
   "source": [
    "## 延伸閱讀\n",
    "\n",
    "- 2017 IT 邦幫忙鐵人賽系列文：R 語言使用者的 Python 學習筆記\n",
    "    - [GitHub 連結](https://github.com/yaojenkuo/learn_python_for_a_r_user#r-語言使用者的-python-學習筆記)\n",
    "    - [iT 邦幫忙連結](http://ithelp.ithome.com.tw/users/20103511/ironman/1077)"
   ]
  }
 ],
 "metadata": {
  "celltoolbar": "Slideshow",
  "kernelspec": {
   "display_name": "Python 3",
   "language": "python",
   "name": "python3"
  },
  "language_info": {
   "codemirror_mode": {
    "name": "ipython",
    "version": 3
   },
   "file_extension": ".py",
   "mimetype": "text/x-python",
   "name": "python",
   "nbconvert_exporter": "python",
   "pygments_lexer": "ipython3",
   "version": "3.6.0"
  }
 },
 "nbformat": 4,
 "nbformat_minor": 2
}
