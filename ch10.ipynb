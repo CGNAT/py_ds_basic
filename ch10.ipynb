{
 "cells": [
  {
   "cell_type": "markdown",
   "metadata": {
    "slideshow": {
     "slide_type": "slide"
    }
   },
   "source": [
    "# 常用的屬性或方法\n",
    "\n",
    "## 郭耀仁"
   ]
  },
  {
   "cell_type": "markdown",
   "metadata": {
    "slideshow": {
     "slide_type": "slide"
    }
   },
   "source": [
    "## 文字（str）\n",
    "\n",
    "```python\n",
    "my_str = \"python for Data science!!!\"\n",
    "\n",
    "print(my_str.startswith(\"Python\"))\n",
    "print(my_str.endswith(\"!\"))\n",
    "print(my_str.find(\"for\"))\n",
    "print(my_str.count(\"!\"))\n",
    "print(my_str.capitalize())\n",
    "print(my_str.title())\n",
    "print(my_str.upper())\n",
    "print(my_str.lower())\n",
    "print(my_str.swapcase())\n",
    "print(my_str.replace(\"science\", \"analysis\"))\n",
    "```"
   ]
  },
  {
   "cell_type": "markdown",
   "metadata": {
    "slideshow": {
     "slide_type": "slide"
    }
   },
   "source": [
    "## list\n",
    "\n",
    "```python\n",
    "age = [19, 21, 20, 19, 21, 17, 30, 36]\n",
    "\n",
    "age.append(90)\n",
    "print(age)\n",
    "brook_age = age.pop()\n",
    "print(brook_age)\n",
    "print(age)\n",
    "age.insert(8, brook_age)\n",
    "age.remove(brook_age)\n",
    "print(age.index(21))\n",
    "age.append(90)\n",
    "age.append(90)\n",
    "print(age.count(90))\n",
    "age.sort()\n",
    "print(age)\n",
    "age.reverse()\n",
    "print(age)\n",
    "```"
   ]
  },
  {
   "cell_type": "markdown",
   "metadata": {
    "slideshow": {
     "slide_type": "slide"
    }
   },
   "source": [
    "## dict\n",
    "\n",
    "```python\n",
    "# as of 2016-12-13\n",
    "team_name = \"金州勇士隊\"\n",
    "wins = 21\n",
    "losses = 4\n",
    "win_percentage = 0.84\n",
    "is_on_winning_streak = True\n",
    "\n",
    "golden_state_warriors = {\n",
    "    \"team_name\": team_name,\n",
    "    \"wins\": wins,\n",
    "    \"losses\": losses,\n",
    "    \"win_percentage\": win_percentage,\n",
    "    \"is_on_winning_streak\": is_on_winning_streak\n",
    "}\n",
    "\n",
    "print(golden_state_warriors.get(\"wins\"))\n",
    "print(golden_state_warriors.keys()) # 用 list 把結果轉換\n",
    "print(golden_state_warriors.values()) # 用 list 把結果轉換\n",
    "```"
   ]
  },
  {
   "cell_type": "markdown",
   "metadata": {
    "slideshow": {
     "slide_type": "slide"
    }
   },
   "source": [
    "## ndarray\n",
    "\n",
    "```python\n",
    "import numpy as np\n",
    "\n",
    "print(np.zeros(6)) # 六個元素均為零的 1d array\n",
    "print(np.arange(11)) # 十一個元素為 0 到 10 的 1d array\n",
    "print(np.arange(1, 11)) # 十個元素為 1 到 10 的 1d array\n",
    "print(np.arange(10).astype(np.str)) # 利用 astype() 方法轉換為文字 \n",
    "print(np.arange(10).reshape(2, 5)) # 利用 reshape() 轉換為矩陣\n",
    "print(np.arange(10).reshape(2, 5).T) # 利用 T 屬性轉置\n",
    "print(np.random.normal(size = 10)) # 生成 10 組標準常態分配（平均值為 0，標準差為 1 的常態分配）隨機變數\n",
    "print(np.random.uniform(size = 10)) # 生成 10 組介於 0 與 1 之間均勻分配隨機變數\n",
    "```"
   ]
  },
  {
   "cell_type": "markdown",
   "metadata": {
    "slideshow": {
     "slide_type": "slide"
    }
   },
   "source": [
    "## data frame\n",
    "\n",
    "```python\n",
    "import pandas as pd\n",
    "\n",
    "name = [\"蒙其·D·魯夫\", \"羅羅亞·索隆\", \"娜美\", \"騙人布\", \"賓什莫克·香吉士\", \"多尼多尼·喬巴\", \"妮可·羅賓\", \"佛朗基\", \"布魯克\"]\n",
    "age = [19, 21, 20, 19, 21, 17, 30, 36, 90]\n",
    "\n",
    "# 建立 dict\n",
    "straw_hat_dict = {\"name\": name,\n",
    "                  \"age\": age\n",
    "}\n",
    "\n",
    "# 建立 data frame\n",
    "straw_hat_df = pd.DataFrame(straw_hat_dict)\n",
    "\n",
    "# 刪除觀測值或欄位\n",
    "straw_hat_df.drop(0, axis = 0)\n",
    "straw_hat_df.drop(\"age\", axis = 1)\n",
    "\n",
    "# 選擇觀測值或欄位\n",
    "straw_hat_df.ix[0, :]\n",
    "straw_hat_df.ix[:, \"age\"]\n",
    "straw_hat_df.ix[0, \"age\"]\n",
    "\n",
    "# 透過布林值篩選\n",
    "filter = straw_hat_df.age >= 30\n",
    "straw_hat_df[filter]\n",
    "filter = straw_hat_df.age < 30\n",
    "filter_2 = straw_hat_df.name == \"蒙其·D·魯夫\"\n",
    "straw_hat_df[filter & filter_2]\n",
    "```"
   ]
  },
  {
   "cell_type": "markdown",
   "metadata": {
    "slideshow": {
     "slide_type": "slide"
    }
   },
   "source": [
    "## 查詢\n",
    "\n",
    "- 在 Jupyter Notebook 中以 tab 鍵查詢\n",
    "- 以 `dir()` 函數查詢\n",
    "- 官方文件與 Google"
   ]
  }
 ],
 "metadata": {
  "celltoolbar": "Slideshow",
  "kernelspec": {
   "display_name": "Python 3",
   "language": "python",
   "name": "python3"
  },
  "language_info": {
   "codemirror_mode": {
    "name": "ipython",
    "version": 3
   },
   "file_extension": ".py",
   "mimetype": "text/x-python",
   "name": "python",
   "nbconvert_exporter": "python",
   "pygments_lexer": "ipython3",
   "version": "3.5.2"
  }
 },
 "nbformat": 4,
 "nbformat_minor": 1
}
