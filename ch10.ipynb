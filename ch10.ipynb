{
 "cells": [
  {
   "cell_type": "markdown",
   "metadata": {
    "slideshow": {
     "slide_type": "slide"
    }
   },
   "source": [
    "# 常用的屬性或方法\n",
    "\n",
    "## 郭耀仁"
   ]
  },
  {
   "cell_type": "markdown",
   "metadata": {
    "slideshow": {
     "slide_type": "slide"
    }
   },
   "source": [
    "## 文字（str）\n",
    "\n",
    "```python\n",
    "my_str = \"python for Data science!!!\"\n",
    "\n",
    "print(my_str.startswith(\"Python\"))\n",
    "print(my_str.endswith(\"!\"))\n",
    "print(my_str.find(\"for\"))\n",
    "print(my_str.count(\"!\"))\n",
    "print(my_str.capitalize())\n",
    "print(my_str.title())\n",
    "print(my_str.upper())\n",
    "print(my_str.lower())\n",
    "print(my_str.swapcase())\n",
    "print(my_str.replace(\"science\", \"analysis\"))\n",
    "```"
   ]
  },
  {
   "cell_type": "markdown",
   "metadata": {
    "slideshow": {
     "slide_type": "slide"
    }
   },
   "source": [
    "## list\n",
    "\n",
    "```python\n",
    "age = [19, 21, 20, 19, 21, 17, 30, 36]\n",
    "\n",
    "age.append(90)\n",
    "print(age)\n",
    "brook_age = age.pop()\n",
    "print(brook_age)\n",
    "print(age)\n",
    "age.insert(8, brook_age)\n",
    "age.remove(brook_age)\n",
    "print(age.index(21))\n",
    "age.append(90)\n",
    "age.append(90)\n",
    "print(age.count(90))\n",
    "age.sort()\n",
    "print(age)\n",
    "age.reverse()\n",
    "print(age)\n",
    "```"
   ]
  },
  {
   "cell_type": "markdown",
   "metadata": {
    "slideshow": {
     "slide_type": "slide"
    }
   },
   "source": [
    "## dict\n",
    "\n",
    "```python\n",
    "# as of 2016-12-13\n",
    "team_name = \"金州勇士隊\"\n",
    "wins = 21\n",
    "losses = 4\n",
    "win_percentage = 0.84\n",
    "is_on_winning_streak = True\n",
    "\n",
    "golden_state_warriors = {\n",
    "    \"team_name\": team_name,\n",
    "    \"wins\": wins,\n",
    "    \"losses\": losses,\n",
    "    \"win_percentage\": win_percentage,\n",
    "    \"is_on_winning_streak\": is_on_winning_streak\n",
    "}\n",
    "\n",
    "print(golden_state_warriors.get(\"wins\"))\n",
    "print(golden_state_warriors.keys()) # 用 list 把結果轉換\n",
    "print(golden_state_warriors.values()) # 用 list 把結果轉換\n",
    "```"
   ]
  },
  {
   "cell_type": "markdown",
   "metadata": {
    "slideshow": {
     "slide_type": "slide"
    }
   },
   "source": [
    "## 查詢\n",
    "\n",
    "- 在 Jupyter Notebook 中以 tab 鍵查詢\n",
    "- 以 `dir()` 函數查詢\n",
    "- 官方文件與 Google"
   ]
  }
 ],
 "metadata": {
  "celltoolbar": "Slideshow",
  "kernelspec": {
   "display_name": "Python 3",
   "language": "python",
   "name": "python3"
  },
  "language_info": {
   "codemirror_mode": {
    "name": "ipython",
    "version": 3
   },
   "file_extension": ".py",
   "mimetype": "text/x-python",
   "name": "python",
   "nbconvert_exporter": "python",
   "pygments_lexer": "ipython3",
   "version": "3.5.2"
  }
 },
 "nbformat": 4,
 "nbformat_minor": 1
}
