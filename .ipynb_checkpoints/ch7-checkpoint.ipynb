{
 "cells": [
  {
   "cell_type": "markdown",
   "metadata": {
    "slideshow": {
     "slide_type": "slide"
    }
   },
   "source": [
    "# 流程控制\n",
    "\n",
    "## 郭耀仁"
   ]
  },
  {
   "cell_type": "markdown",
   "metadata": {
    "slideshow": {
     "slide_type": "slide"
    }
   },
   "source": [
    "## if-else\n",
    "\n",
    "- Python 沒有像是 `switch` 或者 `case` 的分支結構\n",
    "- 透過 `if-else` 的結構創造程式的分支\n",
    "- 整數除以 2 的餘數只會有兩種答案\n",
    "\n",
    "```python\n",
    "my_seq = list(range(1, 11))\n",
    "for iterator in my_seq:\n",
    "    if (iterator % 2 == 0):\n",
    "        print(iterator, \"是偶數\")\n",
    "    else:\n",
    "        print(iterator, \"是奇數\")\n",
    "```"
   ]
  },
  {
   "cell_type": "markdown",
   "metadata": {
    "slideshow": {
     "slide_type": "subslide"
    }
   },
   "source": [
    "## if-elif-else\n",
    "\n",
    "- 整數除以 3 的餘數會有三種答案\n",
    "\n",
    "```python\n",
    "my_seq = list(range(1,11))\n",
    "for iterator in my_seq:\n",
    "    if (iterator % 3 == 0):\n",
    "        print(iterator, \"可以被 3 整除\")\n",
    "    elif (iterator % 3 ==1):\n",
    "        print(iterator, \"除以 3 餘數是 1\")\n",
    "    else:\n",
    "        print(iterator, \"除以 3 餘數是 2\")\n",
    "```"
   ]
  },
  {
   "cell_type": "markdown",
   "metadata": {
    "slideshow": {
     "slide_type": "slide"
    }
   },
   "source": [
    "## 讓迴圈更有彈性\n",
    "\n",
    "- `break` 描述\n",
    "\n",
    "```python\n",
    "ages = [19, 21, 20, 19, 21, 17, 30, 36, 90]\n",
    "for age in ages:\n",
    "    if (age > 30):\n",
    "        break\n",
    "    else:\n",
    "        print(age)\n",
    "\n",
    "print(\"---\")\n",
    "print(age)\n",
    "```"
   ]
  },
  {
   "cell_type": "markdown",
   "metadata": {
    "slideshow": {
     "slide_type": "subslide"
    }
   },
   "source": [
    "## 讓迴圈更有彈性（2）\n",
    "\n",
    "- `continue` 描述\n",
    "\n",
    "```python\n",
    "ages = [19, 21, 20, 19, 21, 17, 30, 36, 90]\n",
    "for age in ages:\n",
    "    if (age < 30):\n",
    "        continue\n",
    "    else:\n",
    "        print(age)\n",
    "\n",
    "print(\"---\")\n",
    "print(age)\n",
    "```"
   ]
  }
 ],
 "metadata": {
  "celltoolbar": "Slideshow",
  "kernelspec": {
   "display_name": "Python 3",
   "language": "python",
   "name": "python3"
  },
  "language_info": {
   "codemirror_mode": {
    "name": "ipython",
    "version": 3
   },
   "file_extension": ".py",
   "mimetype": "text/x-python",
   "name": "python",
   "nbconvert_exporter": "python",
   "pygments_lexer": "ipython3",
   "version": "3.5.2"
  }
 },
 "nbformat": 4,
 "nbformat_minor": 1
}
