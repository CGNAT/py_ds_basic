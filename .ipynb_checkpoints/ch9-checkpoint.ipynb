{
 "cells": [
  {
   "cell_type": "markdown",
   "metadata": {
    "slideshow": {
     "slide_type": "slide"
    }
   },
   "source": [
    "#  淺談物件導向\n",
    "\n",
    "## 郭耀仁"
   ]
  },
  {
   "cell_type": "markdown",
   "metadata": {
    "slideshow": {
     "slide_type": "slide"
    }
   },
   "source": [
    "## 複習\n",
    "\n",
    "- 跟函數型編程有什麼不同\n",
    "\n",
    "```python\n",
    "import pandas as pd\n",
    "\n",
    "name = [\"蒙其·D·魯夫\", \"羅羅亞·索隆\", \"娜美\", \"騙人布\", \"賓什莫克·香吉士\", \"多尼多尼·喬巴\", \"妮可·羅賓\", \"佛朗基\", \"布魯克\"]\n",
    "occupation = [\"船長\", \"劍士\", \"航海士\", \"狙擊手\", \"廚師\", \"醫生\", \"考古學家\", \"船匠\", \"音樂家\"]\n",
    "\n",
    "# 建立 dict\n",
    "straw_hat_dict = {\"name\": name,\n",
    "                  \"occupation\": occupation\n",
    "}\n",
    "\n",
    "# 建立 data frame\n",
    "straw_hat_df = pd.DataFrame(straw_hat_dict) # 請注意這行\n",
    "\n",
    "# 看前三個觀測值\n",
    "straw_hat_df.head(n = 3) # 請注意這行\n",
    "```"
   ]
  },
  {
   "cell_type": "markdown",
   "metadata": {
    "slideshow": {
     "slide_type": "subslide"
    }
   },
   "source": [
    "## 複習（2）\n",
    "\n",
    "- 同樣為建立 data frame，R 語言使用 `data.frame()` 函數；Python 使用 `pd` 的 `DataFrame()` 方法\n",
    "- 同樣為顯示 data frame 的前三列觀測值，R 語言使用 `head()` 函數；Python 使用 `straw_hat_df` 的 `head()` 方法"
   ]
  },
  {
   "cell_type": "markdown",
   "metadata": {
    "slideshow": {
     "slide_type": "slide"
    }
   },
   "source": [
    "## 物件導向\n",
    "\n",
    "- 一個**物件（Object）**可以包含**屬性（Attribute）**與**方法（Method）**\n",
    "\n",
    "```python\n",
    "import pandas as pd\n",
    "\n",
    "name = [\"蒙其·D·魯夫\", \"羅羅亞·索隆\", \"娜美\", \"騙人布\", \"賓什莫克·香吉士\", \"多尼多尼·喬巴\", \"妮可·羅賓\", \"佛朗基\", \"布魯克\"]\n",
    "age = [19, 21, 20, 19, 21, 17, 30, 36, 90]\n",
    "\n",
    "# 建立 dict\n",
    "straw_hat_dict = {\"name\": name,\n",
    "                  \"age\": age\n",
    "}\n",
    "\n",
    "# 建立 data frame\n",
    "straw_hat_df = pd.DataFrame(straw_hat_dict)\n",
    "print(straw_hat_df.dtypes) # straw_hat_df 有 dtypes 屬性\n",
    "print(straw_hat.df.head()) # straw_hat_df 有 head 方法\n",
    "```"
   ]
  },
  {
   "cell_type": "markdown",
   "metadata": {
    "slideshow": {
     "slide_type": "subslide"
    }
   },
   "source": [
    "## 物件導向（2）\n",
    "\n",
    "- 一個**物件（Object）**屬於一種**類別（Class）**\n",
    "- 定義類別\n",
    "\n",
    "```python\n",
    "class Strawhat:\n",
    "    '''\n",
    "    這是一個叫做 Strawhat 的類別\n",
    "    '''\n",
    "    def __init__(self, name, age):\n",
    "        self.name = name\n",
    "        self.age = age\n",
    "\n",
    "# 根據 Strawhat 類別建立兩個物件\n",
    "luffy = Strawhat(\"蒙其·D·魯夫\", 19)\n",
    "zoro = Strawhat(\"羅羅亞·索隆\", 21)\n",
    "\n",
    "# 使用屬性\n",
    "print(luffy.name)\n",
    "print(luffy.age)\n",
    "print(luffy.__doc__)\n",
    "print(zoro.name)\n",
    "print(zoro.age)\n",
    "print(zoro.__doc__)\n",
    "```"
   ]
  },
  {
   "cell_type": "markdown",
   "metadata": {
    "slideshow": {
     "slide_type": "subslide"
    }
   },
   "source": [
    "## 物件導向（3）\n",
    "\n",
    "- 定義類別的方法\n",
    "\n",
    "```python\n",
    "class Strawhat:\n",
    "    '''\n",
    "    這是一個叫做 Strawhat 的類別\n",
    "    '''\n",
    "    def __init__(self, name, age):\n",
    "        self.name = name\n",
    "        self.age = age\n",
    "        \n",
    "    def print_age_2_yr_ago(self):\n",
    "        age_2_yr_age = self.age - 2\n",
    "        print(self.name, \"兩年前是\", age_2_yr_age, \"歲。\")\n",
    "\n",
    "# 根據 Strawhat 類別建立物件\n",
    "luffy = Strawhat(\"蒙其·D·魯夫\", 19)\n",
    "\n",
    "# 使用 luffy 的 print_age_2_yr_ago() 方法\n",
    "luffy.print_age_2_yr_ago()\n",
    "```"
   ]
  },
  {
   "cell_type": "markdown",
   "metadata": {
    "slideshow": {
     "slide_type": "slide"
    }
   },
   "source": [
    "## 物件導向（4）\n",
    "\n",
    "- 類別（Class）\n",
    "- 物件（Object）\n",
    "- 屬性（Attribute）\n",
    "- 方法（Method）"
   ]
  }
 ],
 "metadata": {
  "celltoolbar": "Slideshow",
  "kernelspec": {
   "display_name": "Python 3",
   "language": "python",
   "name": "python3"
  },
  "language_info": {
   "codemirror_mode": {
    "name": "ipython",
    "version": 3
   },
   "file_extension": ".py",
   "mimetype": "text/x-python",
   "name": "python",
   "nbconvert_exporter": "python",
   "pygments_lexer": "ipython3",
   "version": "3.5.2"
  }
 },
 "nbformat": 4,
 "nbformat_minor": 1
}
