{
 "cells": [
  {
   "cell_type": "markdown",
   "metadata": {
    "slideshow": {
     "slide_type": "slide"
    }
   },
   "source": [
    "# 建立你的 Python 開發環境\n",
    "\n",
    "## 郭耀仁"
   ]
  },
  {
   "cell_type": "markdown",
   "metadata": {
    "slideshow": {
     "slide_type": "slide"
    }
   },
   "source": [
    "## 安裝 Anaconda\n",
    "\n",
    "- [Anaconda](https://www.continuum.io/downloads)\n",
    "- 選擇 Python 3.5 Version"
   ]
  },
  {
   "cell_type": "markdown",
   "metadata": {
    "slideshow": {
     "slide_type": "slide"
    }
   },
   "source": [
    "## 啟動 Jupyter Notebook\n",
    "\n",
    "- 在命令列輸入\n",
    "\n",
    "```\n",
    "$ jupyter notebook\n",
    "```\n",
    "\n",
    "- 檢查新增一個 Notebook 有沒有問題\n",
    "\n",
    "![day0101](https://storage.googleapis.com/2017_ithome_ironman/day0101.png)"
   ]
  },
  {
   "cell_type": "markdown",
   "metadata": {
    "slideshow": {
     "slide_type": "subslide"
    }
   },
   "source": [
    "## 排解 Kernel 問題\n",
    "\n",
    "- 在命令列按 `Ctrl + C` 停止 Jupyter Notebook\n",
    "- 在命令列輸入指令\n",
    "\n",
    "```\n",
    "$ conda remove _nb_ext_conf\n",
    "```\n",
    "\n",
    "- 重新啟動 Jupyter Notebook，在命令列輸入\n",
    "\n",
    "```\n",
    "$ jupyter notebook\n",
    "```\n",
    "\n",
    "![day0102](https://storage.googleapis.com/2017_ithome_ironman/day0102.png)"
   ]
  },
  {
   "cell_type": "markdown",
   "metadata": {
    "slideshow": {
     "slide_type": "slide"
    }
   },
   "source": [
    "## 用虛擬機建 Ubuntu 開發\n",
    "\n",
    "- 至 [Download VirtualBox](https://www.virtualbox.org/wiki/Downloads) 下載 VirtualBox\n",
    "- 至 [下載 Ubuntu](https://www.ubuntu-tw.org/modules/tinyd0/) 下載 Ubuntu（LTS）映像檔\n",
    "- 在虛擬機中下載 [Anaconda For Linux](https://www.continuum.io/downloads)\n",
    "- 在終端機執行指令：\n",
    "\n",
    "```\n",
    "$ bash ~/Downloads/Anaconda3-4.2.0-Linux-x86_64.sh\n",
    "```\n",
    "\n",
    "- 在終端機執行指令：\n",
    "\n",
    "```\n",
    "$ conda remove _nb_ext_conf\n",
    "```\n",
    "\n",
    "- 完成。"
   ]
  },
  {
   "cell_type": "markdown",
   "metadata": {
    "slideshow": {
     "slide_type": "slide"
    }
   },
   "source": [
    "## 不用 Anaconda\n",
    "\n",
    "- 我誠心建議初學者用 [Anaconda](https://www.continuum.io/downloads)\n",
    "- 你也可以選擇使用一個好的文字編輯器與 [Python 3.X](https://www.python.org/downloads/)\n",
    "- 但你必須學會使用 `pip` 指令[安裝套件](https://docs.python.org/3/installing/)\n",
    "\n",
    "- Unix-like\n",
    "\n",
    "```\n",
    "$ python3 -m pip install -U SomePackage\n",
    "```\n",
    "\n",
    "- Windows\n",
    "\n",
    "```\n",
    "$ py -3 -m pip install -U SomePackage\n",
    "```"
   ]
  },
  {
   "cell_type": "markdown",
   "metadata": {
    "slideshow": {
     "slide_type": "slide"
    }
   },
   "source": [
    "## 安裝 Git\n",
    "\n",
    "- [Git](https://git-scm.com/download/win)\n",
    "- OS X 內建 Git，不需要進行安裝"
   ]
  },
  {
   "cell_type": "markdown",
   "metadata": {
    "slideshow": {
     "slide_type": "subslide"
    }
   },
   "source": [
    "## 申請 GitHub 帳號\n",
    "\n",
    "- 至 [GitHub](https://github.com/) 申請一個帳號\n",
    "- 記好你的帳號與申請的電子信箱"
   ]
  },
  {
   "cell_type": "markdown",
   "metadata": {
    "slideshow": {
     "slide_type": "subslide"
    }
   },
   "source": [
    "## 設定 Git\n",
    "\n",
    "- 打開 Git Bash\n",
    "- 告訴 Git 你的帳戶與電子信箱\n",
    "\n",
    "```\n",
    "$ git config --global user.name \"YOUR NAME\"\n",
    "$ git config --global user.email YOUR EMAIL ADDRESS\n",
    "```"
   ]
  },
  {
   "cell_type": "markdown",
   "metadata": {
    "slideshow": {
     "slide_type": "slide"
    }
   },
   "source": [
    "## 建立一個專案\n",
    "\n",
    "- 至 [GitHub](https://github.com/) 建立一個遠端 repository\n",
    "- 將新建的 repository 複製回本機\n",
    "- 打開 Git Bash\n",
    "\n",
    "```\n",
    "$ cd ~\n",
    "$ git clone \"YOUR REPOSITORY URL\"\n",
    "```"
   ]
  },
  {
   "cell_type": "markdown",
   "metadata": {
    "slideshow": {
     "slide_type": "subslide"
    }
   },
   "source": [
    "## 啟動 Jupyter Notebook\n",
    "\n",
    "- 切換到複製回來的資料夾路徑下（使用 `cd` 指令）\n",
    "- 在命令列輸入\n",
    "\n",
    "```\n",
    "$ jupyter notebook\n",
    "```"
   ]
  },
  {
   "cell_type": "markdown",
   "metadata": {
    "slideshow": {
     "slide_type": "subslide"
    }
   },
   "source": [
    "## 將程式碼推到遠端\n",
    "\n",
    "- 新增一個 Text File\n",
    "- 撰寫一個 `hello_world.py`，只有一行程式：\n",
    "\n",
    "```\n",
    "print(\"Hello World!\")\n",
    "```\n",
    "\n",
    "- 存檔\n",
    "- 在命令列終端機按 `Ctrl + C` 停止 Jupyter Notebook\n",
    "- 打開 Git Bash：\n",
    "\n",
    "```\n",
    "$ git add .\n",
    "$ git commit -m \"first commit\"\n",
    "$ git push\n",
    "```\n",
    "\n",
    "- 依照提示輸入帳戶與密碼\n",
    "- 至遠端 repository 查看是否推成功"
   ]
  },
  {
   "cell_type": "markdown",
   "metadata": {
    "slideshow": {
     "slide_type": "slide"
    }
   },
   "source": [
    "## 把 Python 當作計算機\n",
    "\n",
    "- 在 Jupyter Notebook 練習這些程式\n",
    "\n",
    "```python\n",
    "print(2 + 3)\n",
    "print(2 - 3)\n",
    "print(2 * 3)\n",
    "print(10 / 2)\n",
    "print(3 ** 2)\n",
    "print(10 % 4)\n",
    "```"
   ]
  },
  {
   "cell_type": "markdown",
   "metadata": {
    "slideshow": {
     "slide_type": "slide"
    }
   },
   "source": [
    "## 期中作業\n",
    "\n",
    "- 在你自己的電腦建立好 Python 資料科學開發環境\n",
    "- 將以下指令執行後的截圖上傳至 GitHub\n",
    "\n",
    "```python\n",
    "import numpy as np\n",
    "import pandas as pd\n",
    "import matplotlib\n",
    "import sklearn\n",
    "\n",
    "print(np.__version__)\n",
    "print(pd.__version__)\n",
    "print(matplotlib.__version__)\n",
    "print(sklearn.__version__)\n",
    "```"
   ]
  },
  {
   "cell_type": "markdown",
   "metadata": {
    "slideshow": {
     "slide_type": "subslide"
    }
   },
   "source": [
    "## 期中作業（2）\n",
    "\n",
    "![midterm_01](https://storage.googleapis.com/py_ds_basic/midterm_01.png)"
   ]
  }
 ],
 "metadata": {
  "celltoolbar": "Slideshow",
  "kernelspec": {
   "display_name": "Python 3",
   "language": "python",
   "name": "python3"
  },
  "language_info": {
   "codemirror_mode": {
    "name": "ipython",
    "version": 3
   },
   "file_extension": ".py",
   "mimetype": "text/x-python",
   "name": "python",
   "nbconvert_exporter": "python",
   "pygments_lexer": "ipython3",
   "version": "3.5.2"
  }
 },
 "nbformat": 4,
 "nbformat_minor": 1
}
