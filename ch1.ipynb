{
 "cells": [
  {
   "cell_type": "markdown",
   "metadata": {
    "slideshow": {
     "slide_type": "slide"
    }
   },
   "source": [
    "# 建立你的 Python 開發環境\n",
    "\n",
    "## 郭耀仁"
   ]
  },
  {
   "cell_type": "markdown",
   "metadata": {
    "slideshow": {
     "slide_type": "slide"
    }
   },
   "source": [
    "## 安裝 Anaconda\n",
    "\n",
    "- [Anaconda](https://www.continuum.io/downloads)\n",
    "- 選擇 Python 3.5 Version"
   ]
  },
  {
   "cell_type": "markdown",
   "metadata": {
    "slideshow": {
     "slide_type": "slide"
    }
   },
   "source": [
    "## 啟動 Jupyter Notebook\n",
    "\n",
    "- 在命令列輸入\n",
    "\n",
    "```\n",
    "$ jupyter notebook\n",
    "```\n",
    "\n",
    "- 檢查新增一個 Notebook 有沒有問題\n",
    "\n",
    "![day0101](https://storage.googleapis.com/2017_ithome_ironman/day0101.png)"
   ]
  },
  {
   "cell_type": "markdown",
   "metadata": {
    "slideshow": {
     "slide_type": "subslide"
    }
   },
   "source": [
    "## 排解 Kernel 問題\n",
    "\n",
    "- 在命令列按 `Ctrl + C` 停止 Jupyter Notebook\n",
    "- 在命令列輸入指令\n",
    "\n",
    "```\n",
    "$ conda remove _nb_ext_conf\n",
    "```\n",
    "\n",
    "- 重新啟動 Jupyter Notebook，在命令列輸入\n",
    "\n",
    "```\n",
    "$ jupyter notebook\n",
    "```\n",
    "\n",
    "![day0102](https://storage.googleapis.com/2017_ithome_ironman/day0102.png)"
   ]
  },
  {
   "cell_type": "markdown",
   "metadata": {
    "slideshow": {
     "slide_type": "slide"
    }
   },
   "source": [
    "## 安裝 Git\n",
    "\n",
    "- [Git](https://git-scm.com/download/win)\n",
    "- OS X 內建 Git，不需要進行安裝"
   ]
  },
  {
   "cell_type": "markdown",
   "metadata": {
    "slideshow": {
     "slide_type": "subslide"
    }
   },
   "source": [
    "## 申請 GitHub 帳號\n",
    "\n",
    "- 至 [GitHub](https://github.com/) 申請一個帳號\n",
    "- 記好你的帳號與申請的電子信箱"
   ]
  },
  {
   "cell_type": "markdown",
   "metadata": {
    "slideshow": {
     "slide_type": "subslide"
    }
   },
   "source": [
    "## 設定 Git\n",
    "\n",
    "- 打開 Git Bash\n",
    "- 告訴 Git 你的帳戶與電子信箱\n",
    "\n",
    "```\n",
    "$ git config --global user.name \"YOUR NAME\"\n",
    "$ git config --global user.email YOUR EMAIL ADDRESS\n",
    "```"
   ]
  },
  {
   "cell_type": "markdown",
   "metadata": {
    "slideshow": {
     "slide_type": "slide"
    }
   },
   "source": [
    "## 建立一個專案\n",
    "\n",
    "- 至 [GitHub](https://github.com/) 建立一個遠端 repository\n",
    "- 將新建的 repository 複製回本機\n",
    "- 打開 Git Bash\n",
    "\n",
    "```\n",
    "$ cd ~\n",
    "$ git clone \"YOUR REPOSITORY URL\"\n",
    "```"
   ]
  },
  {
   "cell_type": "markdown",
   "metadata": {
    "slideshow": {
     "slide_type": "subslide"
    }
   },
   "source": [
    "## 啟動 Jupyter Notebook\n",
    "\n",
    "- 切換到複製回來的資料夾路徑下（使用 `cd` 指令）\n",
    "- 在命令列輸入\n",
    "\n",
    "```\n",
    "$ jupyter notebook\n",
    "```"
   ]
  },
  {
   "cell_type": "markdown",
   "metadata": {
    "slideshow": {
     "slide_type": "subslide"
    }
   },
   "source": [
    "## 將程式碼推到遠端\n",
    "\n",
    "- 新增一個 Text File\n",
    "- 撰寫一個 `hello_world.py`，只有一行程式：\n",
    "\n",
    "```\n",
    "print(\"Hello World!\")\n",
    "```\n",
    "\n",
    "- 存檔\n",
    "- 在命令列終端機按 `Ctrl + C` 停止 Jupyter Notebook\n",
    "- 打開 Git Bash：\n",
    "\n",
    "```\n",
    "$ git add .\n",
    "$ git commit -m \"first commit\"\n",
    "$ git push\n",
    "```\n",
    "\n",
    "- 依照提示輸入帳戶與密碼\n",
    "- 至遠端 repository 查看是否推成功"
   ]
  },
  {
   "cell_type": "markdown",
   "metadata": {
    "slideshow": {
     "slide_type": "slide"
    }
   },
   "source": [
    "## 把 Python 當作計算機\n",
    "\n",
    "- 在 Jupyter Notebook 練習這些程式\n",
    "\n",
    "```{python}\n",
    "print(2 + 3)\n",
    "print(2 - 3)\n",
    "print(2 * 3)\n",
    "print(10 / 2)\n",
    "print(3 ** 2)\n",
    "print(10 % 4)\n",
    "```"
   ]
  }
 ],
 "metadata": {
  "celltoolbar": "Slideshow",
  "kernelspec": {
   "display_name": "Python 3",
   "language": "python",
   "name": "python3"
  },
  "language_info": {
   "codemirror_mode": {
    "name": "ipython",
    "version": 3
   },
   "file_extension": ".py",
   "mimetype": "text/x-python",
   "name": "python",
   "nbconvert_exporter": "python",
   "pygments_lexer": "ipython3",
   "version": "3.5.2"
  }
 },
 "nbformat": 4,
 "nbformat_minor": 1
}
