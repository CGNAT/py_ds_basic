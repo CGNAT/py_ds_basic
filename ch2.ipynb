{
 "cells": [
  {
   "cell_type": "markdown",
   "metadata": {
    "slideshow": {
     "slide_type": "slide"
    }
   },
   "source": [
    "# 基本變數類型\n",
    "\n",
    "## 郭耀仁"
   ]
  },
  {
   "cell_type": "markdown",
   "metadata": {
    "slideshow": {
     "slide_type": "slide"
    }
   },
   "source": [
    "## type() 函數\n",
    "\n",
    "```python\n",
    "help(type)\n",
    "type?\n",
    "```"
   ]
  },
  {
   "cell_type": "markdown",
   "metadata": {
    "slideshow": {
     "slide_type": "slide"
    }
   },
   "source": [
    "## 基本變數類型\n",
    "\n",
    "- 數值\n",
    "    - float\n",
    "    - int\n",
    "    - complex\n",
    "- 布林值（bool）\n",
    "- 文字（str）"
   ]
  },
  {
   "cell_type": "markdown",
   "metadata": {
    "slideshow": {
     "slide_type": "subslide"
    }
   },
   "source": [
    "## 輸入不同的變數類型\n",
    "\n",
    "```python\n",
    "print(type(5))\n",
    "print(type(5.5))\n",
    "print(type(5 + 3j))\n",
    "print(type(True))\n",
    "print(type(False))\n",
    "print(type(\"Jupyter Notebook\"))\n",
    "```"
   ]
  },
  {
   "cell_type": "markdown",
   "metadata": {
    "slideshow": {
     "slide_type": "subslide"
    }
   },
   "source": [
    "## 不同變數類型之間的運算\n",
    "\n",
    "```python\n",
    "print(1.0 == True)\n",
    "print(0 == False)\n",
    "print(1.2 + True)\n",
    "print(3 + True * 2)\n",
    "print(\"Jupyter Notebook\" + \" rocks!\")\n",
    "print(\"Jupyter Notebook\" + \" rocks\" + \"!\" * 3)\n",
    "```"
   ]
  },
  {
   "cell_type": "markdown",
   "metadata": {
    "slideshow": {
     "slide_type": "slide"
    }
   },
   "source": [
    "## 建立物件\n",
    "\n",
    "- Python 中將變數指派給物件的運算子是 `=`\n",
    "- Python 還具備很便利的指派運算子：\n",
    "    - `+=`\n",
    "    - `-=`\n",
    "    - `*=`\n",
    "    - `/=`\n",
    "    - `%=`\n",
    "    \n",
    "```python\n",
    "days = 30\n",
    "days = days + 3\n",
    "days # 33\n",
    "```\n",
    "\n",
    "```python\n",
    "days = 30\n",
    "days += 3\n",
    "days # 33\n",
    "```"
   ]
  },
  {
   "cell_type": "markdown",
   "metadata": {
    "slideshow": {
     "slide_type": "subslide"
    }
   },
   "source": [
    "## 練習使用指派運算子\n",
    "\n",
    "```python\n",
    "days = 30\n",
    "days += 3\n",
    "print(days) # 33\n",
    "days -= 3\n",
    "print(days) # 30\n",
    "days *= 5\n",
    "print(days) # 150\n",
    "days /= 5\n",
    "print(days) # 30.0\n",
    "days %= 7\n",
    "print(days) # 2.0\n",
    "```"
   ]
  },
  {
   "cell_type": "markdown",
   "metadata": {
    "slideshow": {
     "slide_type": "slide"
    }
   },
   "source": [
    "## 變數類型的轉換\n",
    "\n",
    "- 試著印出下列這句話\n",
    "\n",
    "```python\n",
    "days = 30\n",
    "print(\"In order to become an ironman, you have to publish an article a day for \" + days + \" days in a row.\") # TypeError\n",
    "```"
   ]
  },
  {
   "cell_type": "markdown",
   "metadata": {
    "slideshow": {
     "slide_type": "subslide"
    }
   },
   "source": [
    "## 用 `str()` 函數\n",
    "\n",
    "```python\n",
    "days = 30\n",
    "print(\"In order to become an ironman, you have to publish an article a day for \" + str(days) + \" days in a row.\")\n",
    "```"
   ]
  },
  {
   "cell_type": "markdown",
   "metadata": {
    "slideshow": {
     "slide_type": "subslide"
    }
   },
   "source": [
    "## 轉換變數類型的函數\n",
    "\n",
    "- `float()`：轉換變數類型為 float\n",
    "- `int()`：轉換變數類型為 int\n",
    "- `complex()`：轉換變數類型為 complex\n",
    "- `bool()`：轉換變數類型為 bool\n",
    "- `str()`：轉換變數類型為 str"
   ]
  },
  {
   "cell_type": "markdown",
   "metadata": {
    "slideshow": {
     "slide_type": "subslide"
    }
   },
   "source": [
    "## 轉換變數類型的函數（2）\n",
    "\n",
    "```python\n",
    "my_bool = True\n",
    "print(type(my_bool))\n",
    "print(float(my_bool))\n",
    "print(int(my_bool))\n",
    "print(complex(my_bool))\n",
    "print(type(str(my_bool)))\n",
    "```\n",
    "\n",
    "- 有的時候要用兩次\n",
    "\n",
    "```python\n",
    "print(int(bool(\"True\")))\n",
    "```"
   ]
  },
  {
   "cell_type": "markdown",
   "metadata": {
    "slideshow": {
     "slide_type": "slide"
    }
   },
   "source": [
    "## 布林判斷\n",
    "\n",
    "```python\n",
    "print(8 == 8)\n",
    "print(8 == 7)\n",
    "print(8 != 7)\n",
    "print(8 == \"8\") # False\n",
    "print(False == \"False\") # False\n",
    "print(1 == True)\n",
    "print(2 == True) # False\n",
    "print(0 == False)\n",
    "print(2 >= True)\n",
    "print(True & False)\n",
    "print(True | False)\n",
    "```"
   ]
  }
 ],
 "metadata": {
  "celltoolbar": "Slideshow",
  "kernelspec": {
   "display_name": "Python 3",
   "language": "python",
   "name": "python3"
  },
  "language_info": {
   "codemirror_mode": {
    "name": "ipython",
    "version": 3
   },
   "file_extension": ".py",
   "mimetype": "text/x-python",
   "name": "python",
   "nbconvert_exporter": "python",
   "pygments_lexer": "ipython3",
   "version": "3.5.2"
  }
 },
 "nbformat": 4,
 "nbformat_minor": 1
}
