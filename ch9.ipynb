{
 "cells": [
  {
   "cell_type": "markdown",
   "metadata": {
    "slideshow": {
     "slide_type": "slide"
    }
   },
   "source": [
    "#  極淺的物件導向觀念\n",
    "\n",
    "## 郭耀仁"
   ]
  },
  {
   "cell_type": "markdown",
   "metadata": {
    "slideshow": {
     "slide_type": "slide"
    }
   },
   "source": [
    "## 物件導向\n",
    "\n",
    "- 一個**物件（Object）**可以包含**屬性（Attribute）**與**方法（Method）**\n",
    "\n",
    "```python\n",
    "import pandas as pd\n",
    "\n",
    "name = [\"蒙其·D·魯夫\", \"羅羅亞·索隆\", \"娜美\", \"騙人布\", \"賓什莫克·香吉士\", \"多尼多尼·喬巴\", \"妮可·羅賓\", \"佛朗基\", \"布魯克\"]\n",
    "age = [19, 21, 20, 19, 21, 17, 30, 36, 90]\n",
    "\n",
    "# 建立 dict\n",
    "straw_hat_dict = {\"name\": name,\n",
    "                  \"age\": age\n",
    "}\n",
    "\n",
    "# 建立 data frame\n",
    "straw_hat_df = pd.DataFrame(straw_hat_dict)\n",
    "\n",
    "# data frame 的屬性與方法\n",
    "print(straw_hat_df.shape) # shape 屬性\n",
    "straw_hat_df.head(3) # head 方法\n",
    "```"
   ]
  },
  {
   "cell_type": "markdown",
   "metadata": {
    "slideshow": {
     "slide_type": "subslide"
    }
   },
   "source": [
    "## 物件導向（2）\n",
    "\n",
    "- 一個**物件（Object）**屬於一種**類別（Class）**\n",
    "- 定義類別中的屬性\n",
    "\n",
    "```python\n",
    "class Strawhat:\n",
    "    '''\n",
    "    這是一個叫做 Strawhat 的類別\n",
    "    '''\n",
    "    def __init__(self, name, has_devil_fruit):\n",
    "        self.name = name\n",
    "        self.has_devil_fruit = has_devil_fruit\n",
    "\n",
    "# 根據 Strawhat 類別建立兩個物件\n",
    "luffy = Strawhat(\"蒙其·D·魯夫\", True)\n",
    "zoro = Strawhat(\"羅羅亞·索隆\", False)\n",
    "\n",
    "# 使用屬性\n",
    "print(luffy.name)\n",
    "print(luffy.has_devil_fruit)\n",
    "print(luffy.__doc__)\n",
    "print(zoro.name)\n",
    "print(zoro.has_devil_fruit)\n",
    "```"
   ]
  },
  {
   "cell_type": "markdown",
   "metadata": {
    "slideshow": {
     "slide_type": "subslide"
    }
   },
   "source": [
    "## 物件導向（3）\n",
    "\n",
    "- 加入類別中的方法（屬於類別的函數）\n",
    "\n",
    "```python\n",
    "class Strawhat:\n",
    "    '''\n",
    "    這是一個叫做 Strawhat 的類別\n",
    "    '''\n",
    "    def __init__(self, name, devil_fruit):\n",
    "        self.name = name\n",
    "        self.devil_fruit = devil_fruit\n",
    "        \n",
    "    def multiplier(self, a, b):\n",
    "        try:\n",
    "            return a * b\n",
    "        except:\n",
    "            print(\"請至少輸入一個數字\")\n",
    "\n",
    "# 根據 Strawhat 類別建立物件\n",
    "luffy = Strawhat(\"蒙其·D·魯夫\", \"橡膠果實\")\n",
    "print(luffy.name)\n",
    "print(luffy.devil_fruit)\n",
    "\n",
    "# 使用 luffy 的 multiplier() 方法\n",
    "print(luffy.multiplier(8, 7))\n",
    "```"
   ]
  },
  {
   "cell_type": "markdown",
   "metadata": {
    "slideshow": {
     "slide_type": "slide"
    }
   },
   "source": [
    "## 類別、物件、屬性與方法的階層關係\n",
    "\n",
    "- 類別（Class）\n",
    "    - 物件（Object）\n",
    "        - 屬性（Attribute）\n",
    "        - 方法（Method）"
   ]
  }
 ],
 "metadata": {
  "celltoolbar": "Slideshow",
  "kernelspec": {
   "display_name": "Python 3",
   "language": "python",
   "name": "python3"
  },
  "language_info": {
   "codemirror_mode": {
    "name": "ipython",
    "version": 3
   },
   "file_extension": ".py",
   "mimetype": "text/x-python",
   "name": "python",
   "nbconvert_exporter": "python",
   "pygments_lexer": "ipython3",
   "version": "3.6.0"
  }
 },
 "nbformat": 4,
 "nbformat_minor": 1
}
