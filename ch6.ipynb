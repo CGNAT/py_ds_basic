{
 "cells": [
  {
   "cell_type": "markdown",
   "metadata": {
    "slideshow": {
     "slide_type": "slide"
    }
   },
   "source": [
    "# 迴圈\n",
    "\n",
    "## 郭耀仁"
   ]
  },
  {
   "cell_type": "markdown",
   "metadata": {
    "slideshow": {
     "slide_type": "slide"
    }
   },
   "source": [
    "## 一次印出一個組\n",
    "\n",
    "```python\n",
    "weekdays = [\"Monday\", \"Tuesday\", \"Wednesday\", \"Thursday\", \"Friday\"]\n",
    "```"
   ]
  },
  {
   "cell_type": "markdown",
   "metadata": {
    "slideshow": {
     "slide_type": "subslide"
    }
   },
   "source": [
    "## 一次印出一個組（2）\n",
    "\n",
    "- 土法煉鋼的方法\n",
    "\n",
    "```python\n",
    "weekdays = [\"Monday\", \"Tuesday\", \"Wednesday\", \"Thursday\", \"Friday\"]\n",
    "\n",
    "print(weekdays[0])\n",
    "print(weekdays[1])\n",
    "print(weekdays[2])\n",
    "print(weekdays[3])\n",
    "print(weekdays[4])\n",
    "```"
   ]
  },
  {
   "cell_type": "markdown",
   "metadata": {
    "slideshow": {
     "slide_type": "subslide"
    }
   },
   "source": [
    "## 一次印出一個組（3）\n",
    "\n",
    "- 或者寫一個迴圈\n",
    "\n",
    "```python\n",
    "weekdays = [\"Monday\", \"Tuesday\", \"Wednesday\", \"Thursday\", \"Friday\"]\n",
    "\n",
    "# 迴圈結構\n",
    "for weekday in weekdays:\n",
    "    print(weekday)\n",
    "```"
   ]
  },
  {
   "cell_type": "markdown",
   "metadata": {
    "slideshow": {
     "slide_type": "slide"
    }
   },
   "source": [
    "## 迴圈的結構\n",
    "\n",
    "- 宣告迴圈的種類（`for`）\n",
    "- 宣告一個 **iterator** 或者叫做 **cursor**（`weekday`）\n",
    "- 宣告一個迴圈要跑的空間（`weekdays`）\n",
    "- **縮排**宣告每一次 **iterator** 變動的時候要做什麼事（`print(weekday)`）\n",
    "\n",
    "```python\n",
    "weekdays = [\"Monday\", \"Tuesday\", \"Wednesday\", \"Thursday\", \"Friday\"]\n",
    "\n",
    "# 迴圈結構\n",
    "for weekday in weekdays:\n",
    "    print(weekday)\n",
    "```"
   ]
  },
  {
   "cell_type": "markdown",
   "metadata": {
    "slideshow": {
     "slide_type": "slide"
    }
   },
   "source": [
    "## for 迴圈\n",
    "\n",
    "- 實作 1 加到 100\n",
    "\n",
    "```python\n",
    "one_to_hundred = range(1, 101)\n",
    "summation = 0\n",
    "\n",
    "for i in one_to_hundred:\n",
    "    summation += i\n",
    "\n",
    "print(summation)\n",
    "print(i)\n",
    "```"
   ]
  },
  {
   "cell_type": "markdown",
   "metadata": {
    "slideshow": {
     "slide_type": "subslide"
    }
   },
   "source": [
    "## for 迴圈練習\n",
    "\n",
    "- 練習計算 `range(1, 101)` 的元素個數（實作 `len()`）"
   ]
  },
  {
   "cell_type": "markdown",
   "metadata": {
    "slideshow": {
     "slide_type": "subslide"
    }
   },
   "source": [
    "## for 迴圈練習（2）\n",
    "\n",
    "- 練習計算 $10!$"
   ]
  },
  {
   "cell_type": "markdown",
   "metadata": {
    "slideshow": {
     "slide_type": "subslide"
    }
   },
   "source": [
    "## for 迴圈練習（3）\n",
    "\n",
    "- 練習計算印出九九乘法表"
   ]
  },
  {
   "cell_type": "markdown",
   "metadata": {
    "slideshow": {
     "slide_type": "slide"
    }
   },
   "source": [
    "## while 迴圈\n",
    "\n",
    "- 實作 1 加到 100\n",
    "\n",
    "```python\n",
    "one_to_hundred = range(1, 101)\n",
    "summation = 0\n",
    "i = 0\n",
    "\n",
    "while i < len(one_to_hundred):\n",
    "        summation += one_to_hundred[i]\n",
    "        i += 1\n",
    "\n",
    "print(summation)\n",
    "print(i)\n",
    "```"
   ]
  },
  {
   "cell_type": "markdown",
   "metadata": {
    "slideshow": {
     "slide_type": "slide"
    }
   },
   "source": [
    "## 使用 enumerate()\n",
    "\n",
    "```python\n",
    "weekdays = [\"Monday\", \"Tuesday\", \"Wednesday\", \"Thursday\", \"Friday\"]\n",
    "\n",
    "for idx, weekday in enumerate(weekdays):\n",
    "    print(idx, \":\", weekday)\n",
    "```"
   ]
  },
  {
   "cell_type": "markdown",
   "metadata": {
    "slideshow": {
     "slide_type": "subslide"
    }
   },
   "source": [
    "## 使用 zip()\n",
    "\n",
    "```python\n",
    "weekdays_ch = [\"星期一\", \"星期二\", \"星期三\", \"星期四\", \"星期五\"]\n",
    "weekdays = [\"Monday\", \"Tuesday\", \"Wednesday\", \"Thursday\", \"Friday\"]\n",
    "\n",
    "for weekday_ch, weekday in zip(weekdays_ch, weekdays):\n",
    "    print(weekday_ch, \":\", weekday)\n",
    "```"
   ]
  }
 ],
 "metadata": {
  "celltoolbar": "Slideshow",
  "kernelspec": {
   "display_name": "Python 3",
   "language": "python",
   "name": "python3"
  },
  "language_info": {
   "codemirror_mode": {
    "name": "ipython",
    "version": 3
   },
   "file_extension": ".py",
   "mimetype": "text/x-python",
   "name": "python",
   "nbconvert_exporter": "python",
   "pygments_lexer": "ipython3",
   "version": "3.6.0"
  }
 },
 "nbformat": 4,
 "nbformat_minor": 1
}
