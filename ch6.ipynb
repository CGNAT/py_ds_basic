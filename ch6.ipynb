{
 "cells": [
  {
   "cell_type": "markdown",
   "metadata": {
    "slideshow": {
     "slide_type": "slide"
    }
   },
   "source": [
    "# 迴圈\n",
    "\n",
    "## 郭耀仁"
   ]
  },
  {
   "cell_type": "markdown",
   "metadata": {
    "slideshow": {
     "slide_type": "slide"
    }
   },
   "source": [
    "## 一次印出一個組\n",
    "\n",
    "```python\n",
    "nba_divs = [\"大西洋組\", \"中央組\", \"東南組\", \"西北組\", \"太平洋組\", \"西南組\"]\n",
    "```"
   ]
  },
  {
   "cell_type": "markdown",
   "metadata": {
    "slideshow": {
     "slide_type": "subslide"
    }
   },
   "source": [
    "## 一次印出一個組（2）\n",
    "\n",
    "- 土法煉鋼的方法\n",
    "\n",
    "```python\n",
    "nba_divs = [\"大西洋組\", \"中央組\", \"東南組\", \"西北組\", \"太平洋組\", \"西南組\"]\n",
    "\n",
    "print(nba_divs[0])\n",
    "print(nba_divs[1])\n",
    "print(nba_divs[2])\n",
    "print(nba_divs[3])\n",
    "print(nba_divs[4])\n",
    "print(nba_divs[5])\n",
    "```"
   ]
  },
  {
   "cell_type": "markdown",
   "metadata": {
    "slideshow": {
     "slide_type": "subslide"
    }
   },
   "source": [
    "## 一次印出一個組（3）\n",
    "\n",
    "- 或者寫一個迴圈\n",
    "\n",
    "```python\n",
    "nba_divs = [\"大西洋組\", \"中央組\", \"東南組\", \"西北組\", \"太平洋組\", \"西南組\"]\n",
    "\n",
    "# 迴圈結構\n",
    "for div in nba_divs:\n",
    "    print(div)\n",
    "```"
   ]
  },
  {
   "cell_type": "markdown",
   "metadata": {
    "slideshow": {
     "slide_type": "slide"
    }
   },
   "source": [
    "## 迴圈的結構\n",
    "\n",
    "- 宣告迴圈的種類（`for`）\n",
    "- 宣告一個 **iterator** 或者叫做 **cursor**（`div`）\n",
    "- 宣告一個迴圈要跑的空間（`nba_divs`）\n",
    "- **縮排**宣告每一次 **iterator** 變動的時候要做什麼事（`print(div)`）\n",
    "\n",
    "```python\n",
    "nba_divs = [\"大西洋組\", \"中央組\", \"東南組\", \"西北組\", \"太平洋組\", \"西南組\"]\n",
    "\n",
    "# 迴圈結構\n",
    "for div in nba_divs:\n",
    "    print(div)\n",
    "```"
   ]
  },
  {
   "cell_type": "markdown",
   "metadata": {
    "slideshow": {
     "slide_type": "slide"
    }
   },
   "source": [
    "## for 迴圈\n",
    "\n",
    "- 不帶索引值的寫法\n",
    "\n",
    "```python\n",
    "# 不帶索引值的寫法\n",
    "one_to_hundred_list = range(1, 101)\n",
    "summation = 0\n",
    "\n",
    "for i in one_to_hundred_list:\n",
    "    summation += i\n",
    "\n",
    "print(summation)\n",
    "print(i)\n",
    "```"
   ]
  },
  {
   "cell_type": "markdown",
   "metadata": {
    "slideshow": {
     "slide_type": "subslide"
    }
   },
   "source": [
    "## for 迴圈（2）\n",
    "\n",
    "- 帶索引值的寫法\n",
    "\n",
    "```python\n",
    "# 帶索引值的寫法\n",
    "one_to_hundred_list = range(1, 101)\n",
    "summation = 0\n",
    "\n",
    "for i in range(len(one_to_hundred_list)):\n",
    "        summation += one_to_hundred_list[i]\n",
    "\n",
    "print(summation)\n",
    "print(i)\n",
    "```"
   ]
  },
  {
   "cell_type": "markdown",
   "metadata": {
    "slideshow": {
     "slide_type": "slide"
    }
   },
   "source": [
    "## while 迴圈\n",
    "\n",
    "```python\n",
    "one_to_hundred_list = range(1, 101)\n",
    "summation = 0\n",
    "i = 0\n",
    "\n",
    "while i < len(one_to_hundred_list):\n",
    "        summation += one_to_hundred_list[i]\n",
    "        i += 1\n",
    "\n",
    "print(summation)\n",
    "print(i)\n",
    "```"
   ]
  },
  {
   "cell_type": "markdown",
   "metadata": {
    "slideshow": {
     "slide_type": "slide"
    }
   },
   "source": [
    "## 使用 enumerate()\n",
    "\n",
    "```python\n",
    "weekdays = [\"Monday\", \"Tuesday\", \"Wednesday\", \"Thursday\", \"Friday\"]\n",
    "\n",
    "for idx, weekday in enumerate(weekdays):\n",
    "    print(\"%i: %s\" %(idx, weekday))\n",
    "```"
   ]
  },
  {
   "cell_type": "markdown",
   "metadata": {
    "slideshow": {
     "slide_type": "subslide"
    }
   },
   "source": [
    "## 使用 zip()\n",
    "\n",
    "```python\n",
    "weekdays_ch = [\"星期一\", \"星期二\", \"星期三\", \"星期四\", \"星期五\"]\n",
    "weekdays = [\"Monday\", \"Tuesday\", \"Wednesday\", \"Thursday\", \"Friday\"]\n",
    "\n",
    "for weekday_ch, weekday in zip(weekdays_ch, weekdays):\n",
    "    print(\"%s: %s\" %(weekday_ch, weekday))\n",
    "```"
   ]
  }
 ],
 "metadata": {
  "celltoolbar": "Slideshow",
  "kernelspec": {
   "display_name": "Python 3",
   "language": "python",
   "name": "python3"
  },
  "language_info": {
   "codemirror_mode": {
    "name": "ipython",
    "version": 3
   },
   "file_extension": ".py",
   "mimetype": "text/x-python",
   "name": "python",
   "nbconvert_exporter": "python",
   "pygments_lexer": "ipython3",
   "version": "3.5.2"
  }
 },
 "nbformat": 4,
 "nbformat_minor": 1
}
