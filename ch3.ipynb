{
 "cells": [
  {
   "cell_type": "markdown",
   "metadata": {
    "slideshow": {
     "slide_type": "slide"
    }
   },
   "source": [
    "# 資料結構\n",
    "\n",
    "郭耀仁"
   ]
  },
  {
   "cell_type": "markdown",
   "metadata": {
    "slideshow": {
     "slide_type": "slide"
    }
   },
   "source": [
    "## 資料結構\n",
    "\n",
    "- From ingredients to collections\n",
    "- 這句話是什麼意思？"
   ]
  },
  {
   "cell_type": "markdown",
   "metadata": {
    "slideshow": {
     "slide_type": "subslide"
    }
   },
   "source": [
    "## 資料結構（2）\n",
    "\n",
    "- 我們可以用兩種方法儲存 NBA 的組別資訊\n",
    "\n",
    "```python\n",
    "# 方法一：客氣\n",
    "nba_div_1 = \"大西洋組\"\n",
    "nba_div_2 = \"中央組\"\n",
    "nba_div_3 = \"東南組\"\n",
    "nba_div_4 = \"西北組\"\n",
    "nba_div_5 = \"太平洋組\"\n",
    "nba_div_6 = \"西南組\"\n",
    "\n",
    "# 方法二：善用\n",
    "nba_divs = [\"大西洋組\", \"中央組\", \"東南組\", \"西北組\", \"太平洋組\", \"西南組\"]\n",
    "```"
   ]
  },
  {
   "cell_type": "markdown",
   "metadata": {
    "slideshow": {
     "slide_type": "slide"
    }
   },
   "source": [
    "## 我們要講哪些資料結構\n",
    "\n",
    "- list\n",
    "- tuple\n",
    "- dict\n",
    "- ndarray\n",
    "- data frame"
   ]
  },
  {
   "cell_type": "markdown",
   "metadata": {
    "slideshow": {
     "slide_type": "subslide"
    }
   },
   "source": [
    "## list\n",
    "\n",
    "- 建立時使用 `[]` 中括號\n",
    "- 可以容納不同的變數類型（str, int, float, bool）\n",
    "- Python 的索引值從 0 開始算\n",
    "\n",
    "```python\n",
    "# as of 2016-12-13\n",
    "team_name = \"金州勇士隊\"\n",
    "wins = 21\n",
    "losses = 4\n",
    "win_percentage = 0.84\n",
    "is_on_winning_streak = True\n",
    "\n",
    "golden_state_warriors = [team_name, wins, losses, win_percentage, is_on_winning_streak]\n",
    "print(type(golden_state_warriors[0]))\n",
    "print(type(golden_state_warriors[1]))\n",
    "print(type(golden_state_warriors[2]))\n",
    "print(type(golden_state_warriors[3]))\n",
    "print(type(golden_state_warriors[4]))\n",
    "```"
   ]
  },
  {
   "cell_type": "markdown",
   "metadata": {
    "slideshow": {
     "slide_type": "subslide"
    }
   },
   "source": [
    "## tuple\n",
    "\n",
    "- 跟 list 很像，但是我們不能新增，刪除或者更新 tuple 的元素\n",
    "- 建立時使用 `()` 小括號或者使用 `tuple()` 函數轉換既有的 list\n",
    "\n",
    "```python\n",
    "nba_divs_list = [\"大西洋組\", \"中央組\", \"東南組\", \"西北組\", \"太平洋組\"]\n",
    "nba_divs_tuple = (\"大西洋組\", \"中央組\", \"東南組\", \"西北組\", \"太平洋組\")\n",
    "\n",
    "nba_divs_list.insert(5, \"西南組\")\n",
    "nba_divs_tuple.insert(5, \"西南組\")\n",
    "```\n",
    "\n",
    "- 如果對於使用 `.insert()` 的寫法感到陌生，請暫時先不要理會它"
   ]
  },
  {
   "cell_type": "markdown",
   "metadata": {
    "slideshow": {
     "slide_type": "subslide"
    }
   },
   "source": [
    "## dict\n",
    "\n",
    "- 帶有鍵值（key）的 list\n",
    "- 建立時使用大括號 `{}` 或者使用 `dict()` 函數轉換既有的 list\n",
    "\n",
    "```python\n",
    "# as of 2016-12-13\n",
    "team_name = \"金州勇士隊\"\n",
    "wins = 21\n",
    "losses = 4\n",
    "win_percentage = 0.84\n",
    "is_on_winning_streak = True\n",
    "\n",
    "golden_state_warriors = {\n",
    "    \"team_name\": team_name,\n",
    "    \"wins\": wins,\n",
    "    \"losses\": losses,\n",
    "    \"win_percentage\": win_percentage,\n",
    "    \"is_on_winning_streak\": is_on_winning_streak\n",
    "}\n",
    "\n",
    "# 利用鍵值選擇元素\n",
    "print(golden_state_warriors[\"team_name\"])\n",
    "print(golden_state_warriors[\"wins\"])\n",
    "print(golden_state_warriors[\"losses\"])\n",
    "print(golden_state_warriors[\"win_percentage\"])\n",
    "print(golden_state_warriors[\"is_on_winning_streak\"])\n",
    "```"
   ]
  },
  {
   "cell_type": "markdown",
   "metadata": {
    "slideshow": {
     "slide_type": "slide"
    }
   },
   "source": [
    "## ndarray 和 data frame\n",
    "\n",
    "- ndarray 需要引入 numpy 套件\n",
    "- data frame 需要引入 pandas 套件\n",
    "- 我們下一章再說"
   ]
  }
 ],
 "metadata": {
  "celltoolbar": "Slideshow",
  "kernelspec": {
   "display_name": "Python 3",
   "language": "python",
   "name": "python3"
  },
  "language_info": {
   "codemirror_mode": {
    "name": "ipython",
    "version": 3
   },
   "file_extension": ".py",
   "mimetype": "text/x-python",
   "name": "python",
   "nbconvert_exporter": "python",
   "pygments_lexer": "ipython3",
   "version": "3.5.2"
  }
 },
 "nbformat": 4,
 "nbformat_minor": 1
}
