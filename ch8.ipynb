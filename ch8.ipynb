{
 "cells": [
  {
   "cell_type": "markdown",
   "metadata": {
    "slideshow": {
     "slide_type": "slide"
    }
   },
   "source": [
    "# 函數\n",
    "\n",
    "## 郭耀仁"
   ]
  },
  {
   "cell_type": "markdown",
   "metadata": {
    "slideshow": {
     "slide_type": "slide"
    }
   },
   "source": [
    "## 函數是什麼？\n",
    "\n",
    "- 可以吃嗎？\n",
    "- 我們把函數拆分成三個元件：\n",
    "    - 輸入（input）\n",
    "    - 參數（arguments, 常縮寫為 args）\n",
    "    - 輸出（output）"
   ]
  },
  {
   "cell_type": "markdown",
   "metadata": {
    "slideshow": {
     "slide_type": "slide"
    }
   },
   "source": [
    "## 內建函數\n",
    "\n",
    "- 我們其實已經開始使用 Python 的內建函數（generic functions）\n",
    "    - 使用 `help()` 查詢文件\n",
    "    - 使用 `type()` 函數來觀察變數類型"
   ]
  },
  {
   "cell_type": "markdown",
   "metadata": {
    "slideshow": {
     "slide_type": "subslide"
    }
   },
   "source": [
    "## 內建函數（2）\n",
    "\n",
    "- 更多內建函數：\n",
    "\n",
    "```python\n",
    "distances = [1.6, 3, 5, 10, 21, 42.125]\n",
    "\n",
    "# 應用函數\n",
    "print(max(distances)) # 最長的距離\n",
    "print(min(distances)) # 最短的距離\n",
    "print(len(distances)) # 總共有幾個距離\n",
    "print(sorted(distances, reverse = True)) # 遞減排序\n",
    "```"
   ]
  },
  {
   "cell_type": "markdown",
   "metadata": {
    "slideshow": {
     "slide_type": "slide"
    }
   },
   "source": [
    "## 自訂函數\n",
    "\n",
    "- 自訂函數的結構\n",
    "\n",
    "```python\n",
    "def function_name(輸入, 參數 1, 參數 2, ...):\n",
    "    '''\n",
    "    Docstrings # 說明\n",
    "    '''\n",
    "    # 做些什麼事\n",
    "    return 輸出\n",
    "```"
   ]
  },
  {
   "cell_type": "markdown",
   "metadata": {
    "slideshow": {
     "slide_type": "subslide"
    }
   },
   "source": [
    "## 自訂函數（2）\n",
    "\n",
    "- 計算圓形的面積或周長\n",
    "\n",
    "```python\n",
    "import math # 要使用 pi 得引入套件 math\n",
    "\n",
    "# 定義自訂函數\n",
    "def circle_calculate(radius, area = True):\n",
    "    '依據輸入的半徑與 area 參數計算圓形的面積或周長' # 單行的 docstring\n",
    "    circle_area = math.pi * radius**2\n",
    "    circle_circum = 2 * math.pi * radius\n",
    "    if area == True:\n",
    "        return circle_area\n",
    "    else:\n",
    "        return circle_circum\n",
    "\n",
    "# 呼叫自訂函數\n",
    "help(circle_calculate) # 查詢自訂函數\n",
    "my_radius = 3\n",
    "print(circle_calculate(my_radius)) # 預設回傳面積\n",
    "print(circle_calculate(my_radius, area = False)) # 指定參數回傳周長\n",
    "```"
   ]
  },
  {
   "cell_type": "markdown",
   "metadata": {
    "slideshow": {
     "slide_type": "subslide"
    }
   },
   "source": [
    "## 自訂函數（3）\n",
    "\n",
    "- 在 `return` 後面將多個值用逗號 `,` 隔開就會回傳一個 tuple\n",
    "\n",
    "```python\n",
    "import math # 要使用 pi 得引入套件 math\n",
    "\n",
    "# 定義自訂函數\n",
    "def circle_calculate(radius):\n",
    "    '依據輸入的半徑同時計算並回傳圓形的面積或周長' # 單行的 docstring\n",
    "    circle_area = math.pi * radius**2\n",
    "    circle_circum = 2 * math.pi * radius\n",
    "    return circle_area, circle_circum\n",
    "    \n",
    "# 呼叫自訂函數\n",
    "my_radius = 3\n",
    "print(circle_calculate(my_radius))\n",
    "```"
   ]
  },
  {
   "cell_type": "markdown",
   "metadata": {
    "slideshow": {
     "slide_type": "slide"
    }
   },
   "source": [
    "## 期中作業\n",
    "\n",
    "- 自訂一個計算平均數的函數\n",
    "- 裡面應該要包含兩個函數：\n",
    "    - 一個是計算總和的函數\n",
    "    - 一個是計算個數的函數\n",
    "    - 然後將總和除以個數的結果輸出\n",
    "\n",
    "$$\\bar{x} = \\frac{\\sum_{i = 1}^{n}x_i}{n}$$"
   ]
  }
 ],
 "metadata": {
  "celltoolbar": "Slideshow",
  "kernelspec": {
   "display_name": "Python 3",
   "language": "python",
   "name": "python3"
  },
  "language_info": {
   "codemirror_mode": {
    "name": "ipython",
    "version": 3
   },
   "file_extension": ".py",
   "mimetype": "text/x-python",
   "name": "python",
   "nbconvert_exporter": "python",
   "pygments_lexer": "ipython3",
   "version": "3.6.0"
  }
 },
 "nbformat": 4,
 "nbformat_minor": 1
}
