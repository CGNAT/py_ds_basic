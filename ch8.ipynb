{
 "cells": [
  {
   "cell_type": "markdown",
   "metadata": {
    "slideshow": {
     "slide_type": "slide"
    }
   },
   "source": [
    "# 函數\n",
    "\n",
    "## 郭耀仁"
   ]
  },
  {
   "cell_type": "markdown",
   "metadata": {
    "slideshow": {
     "slide_type": "slide"
    }
   },
   "source": [
    "## 函數是什麼？\n",
    "\n",
    "- 可以吃嗎？\n",
    "- 我們把函數拆分成三個元件：\n",
    "    - 輸入（input）\n",
    "    - 參數（arguments, 常縮寫為 args）\n",
    "    - 輸出（output）"
   ]
  },
  {
   "cell_type": "markdown",
   "metadata": {
    "slideshow": {
     "slide_type": "slide"
    }
   },
   "source": [
    "## 內建函數\n",
    "\n",
    "- 我們其實已經開始使用 Python 的內建函數（generic functions）\n",
    "    - 使用 `help()` 查詢文件\n",
    "    - 使用 `type()` 函數來觀察變數類型"
   ]
  },
  {
   "cell_type": "markdown",
   "metadata": {
    "slideshow": {
     "slide_type": "subslide"
    }
   },
   "source": [
    "## 內建函數（2）\n",
    "\n",
    "- 更多內建函數：\n",
    "\n",
    "```python\n",
    "distances = [3, 5, 10, 21, 42.125]\n",
    "\n",
    "# 應用函數\n",
    "print(max(distances)) # 最長的距離\n",
    "print(min(distances)) # 最短的距離\n",
    "print(len(distances)) # 總共有幾個距離\n",
    "print(sorted(distances, reverse = True)) # 遞減排序\n",
    "```"
   ]
  },
  {
   "cell_type": "markdown",
   "metadata": {
    "slideshow": {
     "slide_type": "slide"
    }
   },
   "source": [
    "## 自訂函數\n",
    "\n",
    "- 自訂函數的結構\n",
    "\n",
    "```python\n",
    "def function_name(輸入, 參數 1, 參數 2, ...):\n",
    "    '''\n",
    "    Docstrings # 說明\n",
    "    '''\n",
    "    # 做些什麼事\n",
    "    return 輸出\n",
    "```"
   ]
  },
  {
   "cell_type": "markdown",
   "metadata": {
    "slideshow": {
     "slide_type": "subslide"
    }
   },
   "source": [
    "## 自訂函數（2）\n",
    "\n",
    "- 計算圓形的面積或周長\n",
    "\n",
    "```python\n",
    "import math # 要使用 pi 得引入套件 math\n",
    "\n",
    "# 定義自訂函數\n",
    "def circle_calculate(radius, area = True):\n",
    "    '依據輸入的半徑與 area 參數計算圓形的面積或周長' # 單行的 docstring\n",
    "    circle_area = math.pi * radius**2\n",
    "    circle_circum = 2 * math.pi * radius\n",
    "    if area == True:\n",
    "        return circle_area\n",
    "    else:\n",
    "        return circle_circum\n",
    "\n",
    "# 呼叫自訂函數\n",
    "help(circle_calculate) # 查詢自訂函數\n",
    "my_radius = 3\n",
    "print(circle_calculate(my_radius)) # 預設回傳面積\n",
    "print(circle_calculate(my_radius, area = False)) # 指定參數回傳周長\n",
    "```"
   ]
  },
  {
   "cell_type": "markdown",
   "metadata": {
    "slideshow": {
     "slide_type": "subslide"
    }
   },
   "source": [
    "## 自訂函數（3）\n",
    "\n",
    "- 在 `return` 後面將多個值用逗號 `,` 隔開就會回傳一個 tuple\n",
    "\n",
    "```python\n",
    "import math # 要使用 pi 得引入套件 math\n",
    "\n",
    "# 定義自訂函數\n",
    "def circle_calculate(radius):\n",
    "    '依據輸入的半徑同時計算並回傳圓形的面積或周長' # 單行的 docstring\n",
    "    circle_area = math.pi * radius**2\n",
    "    circle_circum = 2 * math.pi * radius\n",
    "    return circle_area, circle_circum\n",
    "    \n",
    "# 呼叫自訂函數\n",
    "my_radius = 3\n",
    "print(circle_calculate(my_radius))\n",
    "```"
   ]
  },
  {
   "cell_type": "markdown",
   "metadata": {
    "slideshow": {
     "slide_type": "subslide"
    }
   },
   "source": [
    "## 自訂函數（4）\n",
    "\n",
    "- 交換排序法（exchange sorting）\n",
    "\n",
    "```python\n",
    "import random # 呼叫函數時使用隨機整數\n",
    "\n",
    "# 定義自訂函數\n",
    "def exchange_sort(input_list, reverse = False):\n",
    "    ''' # 多行的 docstrings\n",
    "    依據輸入的 list 與 reverse 參數排序 list 中的數字後回傳。\n",
    "    reverse 參數預設為 False 遞增排序，可以修改為 True 遞減排序。\n",
    "    '''\n",
    "    input_list_cloned = input_list\n",
    "    # 遞增排序\n",
    "    if reverse == False:\n",
    "        for i in range(0, len(input_list) - 1):\n",
    "            for j in range(i + 1, len(input_list)):\n",
    "                # 如果前一個數字比後一個數字大則交換位置\n",
    "                if input_list_cloned[i] > input_list_cloned[j]:\n",
    "                    input_list_cloned[i], input_list_cloned[j] = input_list_cloned[j], input_list_cloned[i]\n",
    "    # 遞減排序\n",
    "    else:\n",
    "        for i in range(0, len(input_list) - 1):\n",
    "            for j in range(i + 1, len(input_list)):\n",
    "                # 如果前一個數字比後一個數字小則交換位置\n",
    "                if input_list_cloned[i] < input_list_cloned[j]:\n",
    "                    input_list_cloned[i], input_list_cloned[j] = input_list_cloned[j], input_list_cloned[i]\n",
    "    return input_list_cloned\n",
    "\n",
    "# 呼叫自訂函數\n",
    "my_list = random.sample(range(0, 100), 10) # 產生一組隨機數\n",
    "print(my_list) # 看看未排序前\n",
    "print(exchange_sort(my_list)) # 預設遞增排序\n",
    "print(exchange_sort(my_list, reverse = True)) # 指定參數遞減排序\n",
    "```"
   ]
  },
  {
   "cell_type": "markdown",
   "metadata": {
    "slideshow": {
     "slide_type": "slide"
    }
   },
   "source": [
    "## 巢狀函數\n",
    "\n",
    "- 在函數裡面嵌入函數\n",
    "- 舉例來說一個計算平均數的函數裡面應該要包含兩個函數：\n",
    "    - 一個是計算總和的函數 `my_sum()`\n",
    "    - 一個是計算個數的函數 `my_length()`\n",
    "    \n",
    "```python\n",
    "# 定義自訂函數\n",
    "def my_mean(input_list):\n",
    "    '計算平均數' # docstrings\n",
    "    def my_sum(input_list):\n",
    "        '計算總和'\n",
    "        temp_sum = 0\n",
    "        for i in input_list:\n",
    "            temp_sum += i\n",
    "        return temp_sum\n",
    "    def my_length(input_list):\n",
    "        '計算個數'\n",
    "        temp_length = 0\n",
    "        for i in input_list:\n",
    "            temp_length += 1\n",
    "        return temp_length\n",
    "    return my_sum(input_list) / my_length(input_list)\n",
    "\n",
    "# 呼叫自訂函數\n",
    "one_to_10 = range(1, 11)\n",
    "print(my_mean(one_to_10))\n",
    "```"
   ]
  },
  {
   "cell_type": "markdown",
   "metadata": {
    "slideshow": {
     "slide_type": "slide"
    }
   },
   "source": [
    "## 錯誤處理\n",
    "\n",
    "- Python 使用 `try - except` 的語法結構進行錯誤處理\n",
    "\n",
    "```python\n",
    "import math # 要使用 pi 得引入套件 math\n",
    "\n",
    "# 定義自訂函數\n",
    "def circle_calculate(radius):\n",
    "    '依據輸入的半徑同時計算並回傳圓形的面積或周長' # 單行的 docstring\n",
    "    try:\n",
    "        circle_area = math.pi * radius**2\n",
    "        circle_circum = 2 * math.pi * radius\n",
    "        return circle_area, circle_circum\n",
    "    except:\n",
    "        print(\"請輸入數值。\")\n",
    "\n",
    "# 呼叫自訂函數\n",
    "my_radius = \"3\"\n",
    "circle_calculate(my_radius)\n",
    "```"
   ]
  },
  {
   "cell_type": "markdown",
   "metadata": {
    "slideshow": {
     "slide_type": "slide"
    }
   },
   "source": [
    "## 期中作業\n",
    "\n",
    "- 自訂函數：計算一組數字的標準差\n",
    "- 將函數的程式碼 `my_sd_function.py` 上傳至 GitHub\n",
    "- 標準差公式：\n",
    "\n",
    "\n",
    "$$SD = \\sqrt{\\frac{1}{N}\\sum_{i=1}^{N}(x_i - \\mu)^2}$$\n",
    "\n",
    "- 作業參考連結：\n",
    "    - [numpy.mean](https://docs.scipy.org/doc/numpy-1.10.1/reference/generated/numpy.mean.html)\n",
    "    - [numpy.sum](https://docs.scipy.org/doc/numpy/reference/generated/numpy.sum.html)\n",
    "    - [math.sqrt](https://docs.python.org/2/library/math.html)\n",
    "    - [標準差](https://zh.wikipedia.org/zh-tw/%E6%A8%99%E6%BA%96%E5%B7%AE)"
   ]
  }
 ],
 "metadata": {
  "celltoolbar": "Slideshow",
  "kernelspec": {
   "display_name": "Python 3",
   "language": "python",
   "name": "python3"
  },
  "language_info": {
   "codemirror_mode": {
    "name": "ipython",
    "version": 3
   },
   "file_extension": ".py",
   "mimetype": "text/x-python",
   "name": "python",
   "nbconvert_exporter": "python",
   "pygments_lexer": "ipython3",
   "version": "3.5.2"
  }
 },
 "nbformat": 4,
 "nbformat_minor": 1
}
